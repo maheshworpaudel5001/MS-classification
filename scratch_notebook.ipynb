{
 "cells": [
  {
   "cell_type": "code",
   "execution_count": 32,
   "metadata": {},
   "outputs": [],
   "source": [
    "import torch\n",
    "import numpy as np"
   ]
  },
  {
   "cell_type": "code",
   "execution_count": 33,
   "metadata": {},
   "outputs": [
    {
     "name": "stdout",
     "output_type": "stream",
     "text": [
      "OrderedDict({'linear.weight': tensor([[-3.1282e-07,  4.0969e-05, -1.5842e-05,  ..., -2.7821e-02,\n",
      "          1.6758e-05,  5.5144e-05]]), 'linear.bias': tensor([0.1937])})\n"
     ]
    }
   ],
   "source": [
    "model = torch.load(\"softmax_classifier_stable_vs_active_peds.pth\")\n",
    "print(model)"
   ]
  },
  {
   "cell_type": "code",
   "execution_count": 34,
   "metadata": {},
   "outputs": [
    {
     "name": "stdout",
     "output_type": "stream",
     "text": [
      "linear.weight tensor([[-3.1282e-07,  4.0969e-05, -1.5842e-05,  ..., -2.7821e-02,\n",
      "          1.6758e-05,  5.5144e-05]])\n",
      "linear.bias tensor([0.1937])\n"
     ]
    }
   ],
   "source": [
    "for key in model.keys():\n",
    "    print(key, model[key])"
   ]
  },
  {
   "cell_type": "code",
   "execution_count": 35,
   "metadata": {},
   "outputs": [
    {
     "name": "stdout",
     "output_type": "stream",
     "text": [
      "[-3.1282124e-07  4.0968604e-05 -1.5841586e-05 ... -2.7821139e-02\n",
      "  1.6757804e-05  5.5143653e-05]\n"
     ]
    }
   ],
   "source": [
    "weights = model['linear.weight'].data.cpu().numpy().flatten()\n",
    "print(weights)"
   ]
  },
  {
   "cell_type": "code",
   "execution_count": 36,
   "metadata": {},
   "outputs": [
    {
     "data": {
      "text/plain": [
       "array([1336, 2841, 3618, 3530,  707])"
      ]
     },
     "execution_count": 36,
     "metadata": {},
     "output_type": "execute_result"
    }
   ],
   "source": [
    "# Get the indices of the top 5 features for class 1 (highest positive weights)\n",
    "top5_class1 = np.argsort(weights)[-5:]\n",
    "top5_class1"
   ]
  },
  {
   "cell_type": "code",
   "execution_count": 37,
   "metadata": {},
   "outputs": [
    {
     "data": {
      "text/plain": [
       "array([ 919,  999,  857,  377, 4116])"
      ]
     },
     "execution_count": 37,
     "metadata": {},
     "output_type": "execute_result"
    }
   ],
   "source": [
    "# Get the indices of the top 5 features for class 0 (highest negative weights)\n",
    "top5_class0 = np.argsort(weights)[:5]\n",
    "top5_class0"
   ]
  },
  {
   "cell_type": "code",
   "execution_count": null,
   "metadata": {},
   "outputs": [],
   "source": []
  }
 ],
 "metadata": {
  "kernelspec": {
   "display_name": "pytorch2.3.1-cuda12.1",
   "language": "python",
   "name": "python3"
  },
  "language_info": {
   "codemirror_mode": {
    "name": "ipython",
    "version": 3
   },
   "file_extension": ".py",
   "mimetype": "text/x-python",
   "name": "python",
   "nbconvert_exporter": "python",
   "pygments_lexer": "ipython3",
   "version": "3.12.3"
  }
 },
 "nbformat": 4,
 "nbformat_minor": 2
}
