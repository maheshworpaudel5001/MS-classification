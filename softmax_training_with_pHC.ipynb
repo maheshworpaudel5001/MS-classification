{
 "cells": [
  {
   "cell_type": "code",
   "execution_count": 1,
   "metadata": {},
   "outputs": [
    {
     "name": "stdout",
     "output_type": "stream",
     "text": [
      "cuda:0\n"
     ]
    }
   ],
   "source": [
    "import pandas as pd\n",
    "import torch\n",
    "import torch.nn as nn\n",
    "import torch.optim as optim\n",
    "from sklearn.model_selection import train_test_split\n",
    "from sklearn.metrics import accuracy_score\n",
    "from sklearn.preprocessing import StandardScaler\n",
    "\n",
    "# Device\n",
    "device = torch.device(\"cuda:0\" if torch.cuda.is_available() else \"cpu\")\n",
    "print(device)"
   ]
  },
  {
   "cell_type": "code",
   "execution_count": 20,
   "metadata": {},
   "outputs": [],
   "source": [
    "# Load the data\n",
    "df1 = pd.read_excel(\n",
    "    \"/home/gddaslab/mxp140/sclerosis_project/miRNA_signal_hsa_number2.xlsx\",\n",
    "    engine=\"openpyxl\",\n",
    "    sheet_name=\"Sheet1\",\n",
    ")\n",
    "\n",
    "# Drop non-feature columns\n",
    "df = df1.drop(columns=[\"ID\", \"Transcript_ID\"])\n",
    "\n",
    "# Label the columns based on their types\n",
    "labels = {\"pHC\": 0, \"aHC\": 1, \"sMS\": 2, \"aMS\": 3, \"aPOMS\": 4, \"sPOMS\": 5, \"pBar\": 6}\n",
    "labels2 = {\"aHC\": 0, \"sMS\": 1, \"aMS\": 2, \"aPOMS\": 3, \"sPOMS\": 4, \"pBar\": 5}\n",
    "\n",
    "# Create target labels for each column\n",
    "y = []\n",
    "for col in df.columns:\n",
    "    for key in labels.keys():\n",
    "        if col.startswith(key):\n",
    "            y.append(labels[key])\n",
    "            break\n",
    "y2 = []\n",
    "for col in df2.columns:\n",
    "    for key in labels2.keys():\n",
    "        if col.startswith(key):\n",
    "            y2.append(labels[key])\n",
    "            break"
   ]
  },
  {
   "cell_type": "code",
   "execution_count": 21,
   "metadata": {},
   "outputs": [],
   "source": [
    "# Convert DataFrame to tensor\n",
    "X = df.T.values\n",
    "y = y\n",
    "\n",
    "# Split the data into training and testing sets\n",
    "X_train, X_test, y_train, y_test = train_test_split(\n",
    "    X, y, test_size=0.2, random_state=42\n",
    ")\n",
    "\n",
    "# Convert DataFrame to tensor\n",
    "X2 = df2.T.values\n",
    "y2 = y2\n",
    "\n",
    "# Split the data into training and testing sets\n",
    "X2_train, X2_test, y2_train, y2_test = train_test_split(\n",
    "    X2, y2, test_size=0.2, random_state=42\n",
    ")"
   ]
  },
  {
   "cell_type": "code",
   "execution_count": 22,
   "metadata": {},
   "outputs": [],
   "source": [
    "# Standardize features (optional but recommended)\n",
    "scaler = StandardScaler()\n",
    "X_train = scaler.fit_transform(X_train)\n",
    "X_test = scaler.transform(X_test)\n",
    "\n",
    "X2_train = scaler.fit_transform(X2_train)\n",
    "X2_test = scaler.transform(X2_test)"
   ]
  },
  {
   "cell_type": "code",
   "execution_count": 23,
   "metadata": {},
   "outputs": [],
   "source": [
    "# Convert data to PyTorch tensors\n",
    "X_train_tensor = torch.tensor(X_train, dtype=torch.float32)\n",
    "y_train_tensor = torch.tensor(y_train, dtype=torch.long)\n",
    "X_test_tensor = torch.tensor(X_test, dtype=torch.float32)\n",
    "\n",
    "X2_train_tensor = torch.tensor(X2_train, dtype=torch.float32)\n",
    "y2_train_tensor = torch.tensor(y2_train, dtype=torch.long)\n",
    "X2_test_tensor = torch.tensor(X2_test, dtype=torch.float32)"
   ]
  },
  {
   "cell_type": "code",
   "execution_count": 24,
   "metadata": {},
   "outputs": [],
   "source": [
    "class SoftmaxRegression(nn.Module):\n",
    "    def __init__(self, input_dim, output_dim):\n",
    "        super(SoftmaxRegression, self).__init__()\n",
    "        self.linear = nn.Linear(input_dim, output_dim)\n",
    "\n",
    "    def forward(self, x):\n",
    "        # print(list(x[0]))\n",
    "        return self.linear(x)\n",
    "\n",
    "\n",
    "class ElasticNetLoss(nn.Module):\n",
    "    def __init__(self, model, alpha=1.0, l1_ratio=0.5):\n",
    "        super(ElasticNetLoss, self).__init__()\n",
    "        self.model = model\n",
    "        self.alpha = alpha\n",
    "        self.l1_ratio = l1_ratio\n",
    "        self.cross_entropy_loss = nn.CrossEntropyLoss()\n",
    "\n",
    "    def forward(self, outputs, targets):\n",
    "        ce_loss = self.cross_entropy_loss(outputs, targets)\n",
    "        l1_norm = sum(param.abs().sum() for param in self.model.parameters())\n",
    "        l2_norm = sum(param.pow(2).sum() for param in self.model.parameters())\n",
    "        elastic_net_penalty = self.alpha * (\n",
    "            self.l1_ratio * l1_norm + (1 - self.l1_ratio) * l2_norm\n",
    "        )\n",
    "        return ce_loss + elastic_net_penalty\n",
    "\n",
    "\n",
    "# Instantiate the model\n",
    "input_dim = X_train.shape[1]\n",
    "output_dim = len(torch.unique(y_train_tensor))\n",
    "model = SoftmaxRegression(input_dim, output_dim)\n",
    "\n",
    "model2 = SoftmaxRegression(X2_train.shape[1], len(torch.unique(y2_train_tensor)))"
   ]
  },
  {
   "cell_type": "code",
   "execution_count": 25,
   "metadata": {},
   "outputs": [
    {
     "data": {
      "text/plain": [
       "SoftmaxRegression(\n",
       "  (linear): Linear(in_features=4570, out_features=7, bias=True)\n",
       ")"
      ]
     },
     "execution_count": 25,
     "metadata": {},
     "output_type": "execute_result"
    }
   ],
   "source": [
    "model"
   ]
  },
  {
   "cell_type": "code",
   "execution_count": 26,
   "metadata": {},
   "outputs": [
    {
     "data": {
      "text/plain": [
       "SoftmaxRegression(\n",
       "  (linear): Linear(in_features=4570, out_features=6, bias=True)\n",
       ")"
      ]
     },
     "execution_count": 26,
     "metadata": {},
     "output_type": "execute_result"
    }
   ],
   "source": [
    "model2"
   ]
  },
  {
   "cell_type": "code",
   "execution_count": 27,
   "metadata": {},
   "outputs": [],
   "source": [
    "# Define loss function and optimizer\n",
    "criterion = ElasticNetLoss(model, alpha=0.01, l1_ratio=0.5)\n",
    "optimizer = optim.SGD(model.parameters(), lr=0.01)\n",
    "\n",
    "criterion2 = ElasticNetLoss(model2, alpha=0.01, l1_ratio=0.5)\n",
    "optimizer2 = optim.SGD(model2.parameters(), lr=0.01)"
   ]
  },
  {
   "cell_type": "code",
   "execution_count": 28,
   "metadata": {},
   "outputs": [
    {
     "name": "stdout",
     "output_type": "stream",
     "text": [
      "Epoch [10/1000], Loss: 1.2120\n",
      "Epoch [20/1000], Loss: 1.1049\n",
      "Epoch [30/1000], Loss: 1.0250\n",
      "Epoch [40/1000], Loss: 0.9529\n",
      "Epoch [50/1000], Loss: 0.8856\n",
      "Epoch [60/1000], Loss: 0.8221\n",
      "Epoch [70/1000], Loss: 0.7621\n",
      "Epoch [80/1000], Loss: 0.7057\n",
      "Epoch [90/1000], Loss: 0.6527\n",
      "Epoch [100/1000], Loss: 0.6035\n",
      "Epoch [110/1000], Loss: 0.5578\n",
      "Epoch [120/1000], Loss: 0.5159\n",
      "Epoch [130/1000], Loss: 0.4777\n",
      "Epoch [140/1000], Loss: 0.4432\n",
      "Epoch [150/1000], Loss: 0.4123\n",
      "Epoch [160/1000], Loss: 0.3853\n",
      "Epoch [170/1000], Loss: 0.3619\n",
      "Epoch [180/1000], Loss: 0.3417\n",
      "Epoch [190/1000], Loss: 0.3244\n",
      "Epoch [200/1000], Loss: 0.3097\n",
      "Epoch [210/1000], Loss: 0.2971\n",
      "Epoch [220/1000], Loss: 0.2863\n",
      "Epoch [230/1000], Loss: 0.2770\n",
      "Epoch [240/1000], Loss: 0.2689\n",
      "Epoch [250/1000], Loss: 0.2619\n",
      "Epoch [260/1000], Loss: 0.2556\n",
      "Epoch [270/1000], Loss: 0.2501\n",
      "Epoch [280/1000], Loss: 0.2451\n",
      "Epoch [290/1000], Loss: 0.2408\n",
      "Epoch [300/1000], Loss: 0.2369\n",
      "Epoch [310/1000], Loss: 0.2334\n",
      "Epoch [320/1000], Loss: 0.2302\n",
      "Epoch [330/1000], Loss: 0.2274\n",
      "Epoch [340/1000], Loss: 0.2247\n",
      "Epoch [350/1000], Loss: 0.2223\n",
      "Epoch [360/1000], Loss: 0.2201\n",
      "Epoch [370/1000], Loss: 0.2180\n",
      "Epoch [380/1000], Loss: 0.2161\n",
      "Epoch [390/1000], Loss: 0.2143\n",
      "Epoch [400/1000], Loss: 0.2127\n",
      "Epoch [410/1000], Loss: 0.2111\n",
      "Epoch [420/1000], Loss: 0.2096\n",
      "Epoch [430/1000], Loss: 0.2082\n",
      "Epoch [440/1000], Loss: 0.2069\n",
      "Epoch [450/1000], Loss: 0.2057\n",
      "Epoch [460/1000], Loss: 0.2045\n",
      "Epoch [470/1000], Loss: 0.2034\n",
      "Epoch [480/1000], Loss: 0.2023\n",
      "Epoch [490/1000], Loss: 0.2013\n",
      "Epoch [500/1000], Loss: 0.2004\n",
      "Epoch [510/1000], Loss: 0.1995\n",
      "Epoch [520/1000], Loss: 0.1986\n",
      "Epoch [530/1000], Loss: 0.1977\n",
      "Epoch [540/1000], Loss: 0.1970\n",
      "Epoch [550/1000], Loss: 0.1962\n",
      "Epoch [560/1000], Loss: 0.1955\n",
      "Epoch [570/1000], Loss: 0.1948\n",
      "Epoch [580/1000], Loss: 0.1941\n",
      "Epoch [590/1000], Loss: 0.1935\n",
      "Epoch [600/1000], Loss: 0.1928\n",
      "Epoch [610/1000], Loss: 0.1922\n",
      "Epoch [620/1000], Loss: 0.1917\n",
      "Epoch [630/1000], Loss: 0.1911\n",
      "Epoch [640/1000], Loss: 0.1906\n",
      "Epoch [650/1000], Loss: 0.1900\n",
      "Epoch [660/1000], Loss: 0.1895\n",
      "Epoch [670/1000], Loss: 0.1890\n",
      "Epoch [680/1000], Loss: 0.1885\n",
      "Epoch [690/1000], Loss: 0.1881\n",
      "Epoch [700/1000], Loss: 0.1876\n",
      "Epoch [710/1000], Loss: 0.1872\n",
      "Epoch [720/1000], Loss: 0.1867\n",
      "Epoch [730/1000], Loss: 0.1863\n",
      "Epoch [740/1000], Loss: 0.1859\n",
      "Epoch [750/1000], Loss: 0.1856\n",
      "Epoch [760/1000], Loss: 0.1852\n",
      "Epoch [770/1000], Loss: 0.1848\n",
      "Epoch [780/1000], Loss: 0.1845\n",
      "Epoch [790/1000], Loss: 0.1841\n",
      "Epoch [800/1000], Loss: 0.1838\n",
      "Epoch [810/1000], Loss: 0.1834\n",
      "Epoch [820/1000], Loss: 0.1831\n",
      "Epoch [830/1000], Loss: 0.1829\n",
      "Epoch [840/1000], Loss: 0.1825\n",
      "Epoch [850/1000], Loss: 0.1823\n",
      "Epoch [860/1000], Loss: 0.1819\n",
      "Epoch [870/1000], Loss: 0.1817\n",
      "Epoch [880/1000], Loss: 0.1814\n",
      "Epoch [890/1000], Loss: 0.1811\n",
      "Epoch [900/1000], Loss: 0.1809\n",
      "Epoch [910/1000], Loss: 0.1806\n",
      "Epoch [920/1000], Loss: 0.1803\n",
      "Epoch [930/1000], Loss: 0.1801\n",
      "Epoch [940/1000], Loss: 0.1798\n",
      "Epoch [950/1000], Loss: 0.1796\n",
      "Epoch [960/1000], Loss: 0.1794\n",
      "Epoch [970/1000], Loss: 0.1792\n",
      "Epoch [980/1000], Loss: 0.1789\n",
      "Epoch [990/1000], Loss: 0.1787\n",
      "Epoch [1000/1000], Loss: 0.1785\n"
     ]
    }
   ],
   "source": [
    "# Training loop\n",
    "num_epochs = 1000\n",
    "for epoch in range(num_epochs):\n",
    "    model.train()  # Set the model to training mode\n",
    "\n",
    "    # Forward pass\n",
    "    outputs = model(X_train_tensor)\n",
    "    loss = criterion(outputs, y_train_tensor)\n",
    "\n",
    "    # Backward pass and optimization\n",
    "    optimizer.zero_grad()\n",
    "    loss.backward()\n",
    "    optimizer.step()\n",
    "\n",
    "    if (epoch + 1) % 10 == 0:\n",
    "        print(f\"Epoch [{epoch+1}/{num_epochs}], Loss: {loss.item():.4f}\")"
   ]
  },
  {
   "cell_type": "code",
   "execution_count": 29,
   "metadata": {},
   "outputs": [
    {
     "ename": "IndexError",
     "evalue": "Target 6 is out of bounds.",
     "output_type": "error",
     "traceback": [
      "\u001b[0;31m---------------------------------------------------------------------------\u001b[0m",
      "\u001b[0;31mIndexError\u001b[0m                                Traceback (most recent call last)",
      "Cell \u001b[0;32mIn[29], line 8\u001b[0m\n\u001b[1;32m      6\u001b[0m \u001b[38;5;66;03m# Forward pass\u001b[39;00m\n\u001b[1;32m      7\u001b[0m outputs \u001b[38;5;241m=\u001b[39m model2(X2_train_tensor)\n\u001b[0;32m----> 8\u001b[0m loss \u001b[38;5;241m=\u001b[39m \u001b[43mcriterion2\u001b[49m\u001b[43m(\u001b[49m\u001b[43moutputs\u001b[49m\u001b[43m,\u001b[49m\u001b[43m \u001b[49m\u001b[43my2_train_tensor\u001b[49m\u001b[43m)\u001b[49m\n\u001b[1;32m     10\u001b[0m \u001b[38;5;66;03m# Backward pass and optimization\u001b[39;00m\n\u001b[1;32m     11\u001b[0m optimizer2\u001b[38;5;241m.\u001b[39mzero_grad()\n",
      "File \u001b[0;32m~/anaconda3/envs/pytorch2.3.1-cuda12.1/lib/python3.12/site-packages/torch/nn/modules/module.py:1532\u001b[0m, in \u001b[0;36mModule._wrapped_call_impl\u001b[0;34m(self, *args, **kwargs)\u001b[0m\n\u001b[1;32m   1530\u001b[0m     \u001b[38;5;28;01mreturn\u001b[39;00m \u001b[38;5;28mself\u001b[39m\u001b[38;5;241m.\u001b[39m_compiled_call_impl(\u001b[38;5;241m*\u001b[39margs, \u001b[38;5;241m*\u001b[39m\u001b[38;5;241m*\u001b[39mkwargs)  \u001b[38;5;66;03m# type: ignore[misc]\u001b[39;00m\n\u001b[1;32m   1531\u001b[0m \u001b[38;5;28;01melse\u001b[39;00m:\n\u001b[0;32m-> 1532\u001b[0m     \u001b[38;5;28;01mreturn\u001b[39;00m \u001b[38;5;28;43mself\u001b[39;49m\u001b[38;5;241;43m.\u001b[39;49m\u001b[43m_call_impl\u001b[49m\u001b[43m(\u001b[49m\u001b[38;5;241;43m*\u001b[39;49m\u001b[43margs\u001b[49m\u001b[43m,\u001b[49m\u001b[43m \u001b[49m\u001b[38;5;241;43m*\u001b[39;49m\u001b[38;5;241;43m*\u001b[39;49m\u001b[43mkwargs\u001b[49m\u001b[43m)\u001b[49m\n",
      "File \u001b[0;32m~/anaconda3/envs/pytorch2.3.1-cuda12.1/lib/python3.12/site-packages/torch/nn/modules/module.py:1541\u001b[0m, in \u001b[0;36mModule._call_impl\u001b[0;34m(self, *args, **kwargs)\u001b[0m\n\u001b[1;32m   1536\u001b[0m \u001b[38;5;66;03m# If we don't have any hooks, we want to skip the rest of the logic in\u001b[39;00m\n\u001b[1;32m   1537\u001b[0m \u001b[38;5;66;03m# this function, and just call forward.\u001b[39;00m\n\u001b[1;32m   1538\u001b[0m \u001b[38;5;28;01mif\u001b[39;00m \u001b[38;5;129;01mnot\u001b[39;00m (\u001b[38;5;28mself\u001b[39m\u001b[38;5;241m.\u001b[39m_backward_hooks \u001b[38;5;129;01mor\u001b[39;00m \u001b[38;5;28mself\u001b[39m\u001b[38;5;241m.\u001b[39m_backward_pre_hooks \u001b[38;5;129;01mor\u001b[39;00m \u001b[38;5;28mself\u001b[39m\u001b[38;5;241m.\u001b[39m_forward_hooks \u001b[38;5;129;01mor\u001b[39;00m \u001b[38;5;28mself\u001b[39m\u001b[38;5;241m.\u001b[39m_forward_pre_hooks\n\u001b[1;32m   1539\u001b[0m         \u001b[38;5;129;01mor\u001b[39;00m _global_backward_pre_hooks \u001b[38;5;129;01mor\u001b[39;00m _global_backward_hooks\n\u001b[1;32m   1540\u001b[0m         \u001b[38;5;129;01mor\u001b[39;00m _global_forward_hooks \u001b[38;5;129;01mor\u001b[39;00m _global_forward_pre_hooks):\n\u001b[0;32m-> 1541\u001b[0m     \u001b[38;5;28;01mreturn\u001b[39;00m \u001b[43mforward_call\u001b[49m\u001b[43m(\u001b[49m\u001b[38;5;241;43m*\u001b[39;49m\u001b[43margs\u001b[49m\u001b[43m,\u001b[49m\u001b[43m \u001b[49m\u001b[38;5;241;43m*\u001b[39;49m\u001b[38;5;241;43m*\u001b[39;49m\u001b[43mkwargs\u001b[49m\u001b[43m)\u001b[49m\n\u001b[1;32m   1543\u001b[0m \u001b[38;5;28;01mtry\u001b[39;00m:\n\u001b[1;32m   1544\u001b[0m     result \u001b[38;5;241m=\u001b[39m \u001b[38;5;28;01mNone\u001b[39;00m\n",
      "Cell \u001b[0;32mIn[24], line 20\u001b[0m, in \u001b[0;36mElasticNetLoss.forward\u001b[0;34m(self, outputs, targets)\u001b[0m\n\u001b[1;32m     19\u001b[0m \u001b[38;5;28;01mdef\u001b[39;00m \u001b[38;5;21mforward\u001b[39m(\u001b[38;5;28mself\u001b[39m, outputs, targets):\n\u001b[0;32m---> 20\u001b[0m     ce_loss \u001b[38;5;241m=\u001b[39m \u001b[38;5;28;43mself\u001b[39;49m\u001b[38;5;241;43m.\u001b[39;49m\u001b[43mcross_entropy_loss\u001b[49m\u001b[43m(\u001b[49m\u001b[43moutputs\u001b[49m\u001b[43m,\u001b[49m\u001b[43m \u001b[49m\u001b[43mtargets\u001b[49m\u001b[43m)\u001b[49m\n\u001b[1;32m     21\u001b[0m     l1_norm \u001b[38;5;241m=\u001b[39m \u001b[38;5;28msum\u001b[39m(param\u001b[38;5;241m.\u001b[39mabs()\u001b[38;5;241m.\u001b[39msum() \u001b[38;5;28;01mfor\u001b[39;00m param \u001b[38;5;129;01min\u001b[39;00m \u001b[38;5;28mself\u001b[39m\u001b[38;5;241m.\u001b[39mmodel\u001b[38;5;241m.\u001b[39mparameters())\n\u001b[1;32m     22\u001b[0m     l2_norm \u001b[38;5;241m=\u001b[39m \u001b[38;5;28msum\u001b[39m(param\u001b[38;5;241m.\u001b[39mpow(\u001b[38;5;241m2\u001b[39m)\u001b[38;5;241m.\u001b[39msum() \u001b[38;5;28;01mfor\u001b[39;00m param \u001b[38;5;129;01min\u001b[39;00m \u001b[38;5;28mself\u001b[39m\u001b[38;5;241m.\u001b[39mmodel\u001b[38;5;241m.\u001b[39mparameters())\n",
      "File \u001b[0;32m~/anaconda3/envs/pytorch2.3.1-cuda12.1/lib/python3.12/site-packages/torch/nn/modules/module.py:1532\u001b[0m, in \u001b[0;36mModule._wrapped_call_impl\u001b[0;34m(self, *args, **kwargs)\u001b[0m\n\u001b[1;32m   1530\u001b[0m     \u001b[38;5;28;01mreturn\u001b[39;00m \u001b[38;5;28mself\u001b[39m\u001b[38;5;241m.\u001b[39m_compiled_call_impl(\u001b[38;5;241m*\u001b[39margs, \u001b[38;5;241m*\u001b[39m\u001b[38;5;241m*\u001b[39mkwargs)  \u001b[38;5;66;03m# type: ignore[misc]\u001b[39;00m\n\u001b[1;32m   1531\u001b[0m \u001b[38;5;28;01melse\u001b[39;00m:\n\u001b[0;32m-> 1532\u001b[0m     \u001b[38;5;28;01mreturn\u001b[39;00m \u001b[38;5;28;43mself\u001b[39;49m\u001b[38;5;241;43m.\u001b[39;49m\u001b[43m_call_impl\u001b[49m\u001b[43m(\u001b[49m\u001b[38;5;241;43m*\u001b[39;49m\u001b[43margs\u001b[49m\u001b[43m,\u001b[49m\u001b[43m \u001b[49m\u001b[38;5;241;43m*\u001b[39;49m\u001b[38;5;241;43m*\u001b[39;49m\u001b[43mkwargs\u001b[49m\u001b[43m)\u001b[49m\n",
      "File \u001b[0;32m~/anaconda3/envs/pytorch2.3.1-cuda12.1/lib/python3.12/site-packages/torch/nn/modules/module.py:1541\u001b[0m, in \u001b[0;36mModule._call_impl\u001b[0;34m(self, *args, **kwargs)\u001b[0m\n\u001b[1;32m   1536\u001b[0m \u001b[38;5;66;03m# If we don't have any hooks, we want to skip the rest of the logic in\u001b[39;00m\n\u001b[1;32m   1537\u001b[0m \u001b[38;5;66;03m# this function, and just call forward.\u001b[39;00m\n\u001b[1;32m   1538\u001b[0m \u001b[38;5;28;01mif\u001b[39;00m \u001b[38;5;129;01mnot\u001b[39;00m (\u001b[38;5;28mself\u001b[39m\u001b[38;5;241m.\u001b[39m_backward_hooks \u001b[38;5;129;01mor\u001b[39;00m \u001b[38;5;28mself\u001b[39m\u001b[38;5;241m.\u001b[39m_backward_pre_hooks \u001b[38;5;129;01mor\u001b[39;00m \u001b[38;5;28mself\u001b[39m\u001b[38;5;241m.\u001b[39m_forward_hooks \u001b[38;5;129;01mor\u001b[39;00m \u001b[38;5;28mself\u001b[39m\u001b[38;5;241m.\u001b[39m_forward_pre_hooks\n\u001b[1;32m   1539\u001b[0m         \u001b[38;5;129;01mor\u001b[39;00m _global_backward_pre_hooks \u001b[38;5;129;01mor\u001b[39;00m _global_backward_hooks\n\u001b[1;32m   1540\u001b[0m         \u001b[38;5;129;01mor\u001b[39;00m _global_forward_hooks \u001b[38;5;129;01mor\u001b[39;00m _global_forward_pre_hooks):\n\u001b[0;32m-> 1541\u001b[0m     \u001b[38;5;28;01mreturn\u001b[39;00m \u001b[43mforward_call\u001b[49m\u001b[43m(\u001b[49m\u001b[38;5;241;43m*\u001b[39;49m\u001b[43margs\u001b[49m\u001b[43m,\u001b[49m\u001b[43m \u001b[49m\u001b[38;5;241;43m*\u001b[39;49m\u001b[38;5;241;43m*\u001b[39;49m\u001b[43mkwargs\u001b[49m\u001b[43m)\u001b[49m\n\u001b[1;32m   1543\u001b[0m \u001b[38;5;28;01mtry\u001b[39;00m:\n\u001b[1;32m   1544\u001b[0m     result \u001b[38;5;241m=\u001b[39m \u001b[38;5;28;01mNone\u001b[39;00m\n",
      "File \u001b[0;32m~/anaconda3/envs/pytorch2.3.1-cuda12.1/lib/python3.12/site-packages/torch/nn/modules/loss.py:1185\u001b[0m, in \u001b[0;36mCrossEntropyLoss.forward\u001b[0;34m(self, input, target)\u001b[0m\n\u001b[1;32m   1184\u001b[0m \u001b[38;5;28;01mdef\u001b[39;00m \u001b[38;5;21mforward\u001b[39m(\u001b[38;5;28mself\u001b[39m, \u001b[38;5;28minput\u001b[39m: Tensor, target: Tensor) \u001b[38;5;241m-\u001b[39m\u001b[38;5;241m>\u001b[39m Tensor:\n\u001b[0;32m-> 1185\u001b[0m     \u001b[38;5;28;01mreturn\u001b[39;00m \u001b[43mF\u001b[49m\u001b[38;5;241;43m.\u001b[39;49m\u001b[43mcross_entropy\u001b[49m\u001b[43m(\u001b[49m\u001b[38;5;28;43minput\u001b[39;49m\u001b[43m,\u001b[49m\u001b[43m \u001b[49m\u001b[43mtarget\u001b[49m\u001b[43m,\u001b[49m\u001b[43m \u001b[49m\u001b[43mweight\u001b[49m\u001b[38;5;241;43m=\u001b[39;49m\u001b[38;5;28;43mself\u001b[39;49m\u001b[38;5;241;43m.\u001b[39;49m\u001b[43mweight\u001b[49m\u001b[43m,\u001b[49m\n\u001b[1;32m   1186\u001b[0m \u001b[43m                           \u001b[49m\u001b[43mignore_index\u001b[49m\u001b[38;5;241;43m=\u001b[39;49m\u001b[38;5;28;43mself\u001b[39;49m\u001b[38;5;241;43m.\u001b[39;49m\u001b[43mignore_index\u001b[49m\u001b[43m,\u001b[49m\u001b[43m \u001b[49m\u001b[43mreduction\u001b[49m\u001b[38;5;241;43m=\u001b[39;49m\u001b[38;5;28;43mself\u001b[39;49m\u001b[38;5;241;43m.\u001b[39;49m\u001b[43mreduction\u001b[49m\u001b[43m,\u001b[49m\n\u001b[1;32m   1187\u001b[0m \u001b[43m                           \u001b[49m\u001b[43mlabel_smoothing\u001b[49m\u001b[38;5;241;43m=\u001b[39;49m\u001b[38;5;28;43mself\u001b[39;49m\u001b[38;5;241;43m.\u001b[39;49m\u001b[43mlabel_smoothing\u001b[49m\u001b[43m)\u001b[49m\n",
      "File \u001b[0;32m~/anaconda3/envs/pytorch2.3.1-cuda12.1/lib/python3.12/site-packages/torch/nn/functional.py:3086\u001b[0m, in \u001b[0;36mcross_entropy\u001b[0;34m(input, target, weight, size_average, ignore_index, reduce, reduction, label_smoothing)\u001b[0m\n\u001b[1;32m   3084\u001b[0m \u001b[38;5;28;01mif\u001b[39;00m size_average \u001b[38;5;129;01mis\u001b[39;00m \u001b[38;5;129;01mnot\u001b[39;00m \u001b[38;5;28;01mNone\u001b[39;00m \u001b[38;5;129;01mor\u001b[39;00m reduce \u001b[38;5;129;01mis\u001b[39;00m \u001b[38;5;129;01mnot\u001b[39;00m \u001b[38;5;28;01mNone\u001b[39;00m:\n\u001b[1;32m   3085\u001b[0m     reduction \u001b[38;5;241m=\u001b[39m _Reduction\u001b[38;5;241m.\u001b[39mlegacy_get_string(size_average, reduce)\n\u001b[0;32m-> 3086\u001b[0m \u001b[38;5;28;01mreturn\u001b[39;00m \u001b[43mtorch\u001b[49m\u001b[38;5;241;43m.\u001b[39;49m\u001b[43m_C\u001b[49m\u001b[38;5;241;43m.\u001b[39;49m\u001b[43m_nn\u001b[49m\u001b[38;5;241;43m.\u001b[39;49m\u001b[43mcross_entropy_loss\u001b[49m\u001b[43m(\u001b[49m\u001b[38;5;28;43minput\u001b[39;49m\u001b[43m,\u001b[49m\u001b[43m \u001b[49m\u001b[43mtarget\u001b[49m\u001b[43m,\u001b[49m\u001b[43m \u001b[49m\u001b[43mweight\u001b[49m\u001b[43m,\u001b[49m\u001b[43m \u001b[49m\u001b[43m_Reduction\u001b[49m\u001b[38;5;241;43m.\u001b[39;49m\u001b[43mget_enum\u001b[49m\u001b[43m(\u001b[49m\u001b[43mreduction\u001b[49m\u001b[43m)\u001b[49m\u001b[43m,\u001b[49m\u001b[43m \u001b[49m\u001b[43mignore_index\u001b[49m\u001b[43m,\u001b[49m\u001b[43m \u001b[49m\u001b[43mlabel_smoothing\u001b[49m\u001b[43m)\u001b[49m\n",
      "\u001b[0;31mIndexError\u001b[0m: Target 6 is out of bounds."
     ]
    }
   ],
   "source": [
    "# Training loop\n",
    "num_epochs = 1000\n",
    "for epoch in range(num_epochs):\n",
    "    model2.train()  # Set the model to training mode\n",
    "\n",
    "    # Forward pass\n",
    "    outputs = model2(X2_train_tensor)\n",
    "    loss = criterion2(outputs, y2_train_tensor)\n",
    "\n",
    "    # Backward pass and optimization\n",
    "    optimizer2.zero_grad()\n",
    "    loss.backward()\n",
    "    optimizer2.step()\n",
    "\n",
    "    if (epoch + 1) % 10 == 0:\n",
    "        print(f\"Epoch [{epoch+1}/{num_epochs}], Loss: {loss.item():.4f}\")"
   ]
  },
  {
   "cell_type": "code",
   "execution_count": 10,
   "metadata": {},
   "outputs": [],
   "source": [
    "# Save the model\n",
    "torch.save(model.state_dict(), \"softmax_classifier.pth\")"
   ]
  },
  {
   "cell_type": "code",
   "execution_count": null,
   "metadata": {},
   "outputs": [],
   "source": [
    "# Load the model\n",
    "model = SoftmaxRegression(input_dim, output_dim)\n",
    "model.load_state_dict(torch.load(\"softmax_classifier.pth\"))\n",
    "model.eval()  # Set the model to evaluation mode"
   ]
  },
  {
   "cell_type": "code",
   "execution_count": 47,
   "metadata": {},
   "outputs": [
    {
     "name": "stdout",
     "output_type": "stream",
     "text": [
      "Parameter containing:\n",
      "tensor([[-5.9147e-07, -8.2708e-06,  1.6829e-05,  ...,  1.0195e-05,\n",
      "          2.3074e-05,  1.2896e-06],\n",
      "        [ 1.5721e-05,  1.2976e-06,  2.9104e-05,  ..., -1.3274e-05,\n",
      "         -1.6655e-05,  6.5924e-06],\n",
      "        [-4.1872e-05, -3.1389e-05,  2.0746e-05,  ...,  4.4030e-05,\n",
      "          3.9371e-05, -5.4530e-06],\n",
      "        ...,\n",
      "        [ 2.8874e-05,  1.0378e-05, -7.1626e-07,  ..., -4.7887e-05,\n",
      "          3.1346e-07,  1.8096e-02],\n",
      "        [-5.7171e-05,  8.1294e-05,  3.5546e-06,  ...,  2.4974e-02,\n",
      "          3.0396e-05,  8.0215e-06],\n",
      "        [ 7.4309e-05, -2.3077e-06, -2.1007e-05,  ..., -1.5852e-05,\n",
      "         -4.7192e-05,  1.6979e-05]], requires_grad=True)\n",
      "torch.Size([7, 4570])\n",
      "Parameter containing:\n",
      "tensor([ 6.4980e-05, -4.8892e-05,  1.9404e-05, -1.0488e-05,  1.6083e-05,\n",
      "        -6.2903e-05,  4.5516e-07], requires_grad=True)\n",
      "torch.Size([7])\n"
     ]
    }
   ],
   "source": [
    "parameters = []\n",
    "for param in model.parameters():\n",
    "    print(param)\n",
    "    print(param.shape)\n",
    "    parameters.append(param)"
   ]
  },
  {
   "cell_type": "code",
   "execution_count": 48,
   "metadata": {},
   "outputs": [
    {
     "name": "stdout",
     "output_type": "stream",
     "text": [
      "Accuracy: 0.78\n",
      "torch.return_types.max(\n",
      "values=tensor([6.4980e-05]),\n",
      "indices=tensor([0]))\n",
      "tensor([-5.9147e-07, -8.2708e-06,  1.6829e-05, -1.1646e-05,  3.0629e-06],\n",
      "       requires_grad=True)\n",
      "tensor([ 1.5721e-05,  1.2976e-06,  2.9104e-05, -3.3720e-05, -8.7782e-06],\n",
      "       requires_grad=True)\n",
      "tensor([-4.1872e-05, -3.1389e-05,  2.0746e-05,  5.5800e-06,  1.0061e-05],\n",
      "       requires_grad=True)\n",
      "tensor([4.9272e-06, 2.3955e-05, 5.7531e-05, 2.2516e-05, 1.4948e-02],\n",
      "       requires_grad=True)\n",
      "tensor([ 2.8874e-05,  1.0378e-05, -7.1626e-07, -1.0170e-06, -2.3070e-05],\n",
      "       requires_grad=True)\n",
      "tensor([-5.7171e-05,  8.1294e-05,  3.5546e-06,  2.6611e-06, -3.0562e-05],\n",
      "       requires_grad=True)\n",
      "tensor([ 7.4309e-05, -2.3077e-06, -2.1007e-05, -3.4664e-06,  5.3982e-06],\n",
      "       requires_grad=True)\n"
     ]
    }
   ],
   "source": [
    "# Evaluation\n",
    "with torch.no_grad():\n",
    "    model.eval()\n",
    "    test_outputs = model(X_test_tensor)\n",
    "    _, y_pred_tensor = torch.max(test_outputs, 1)\n",
    "    y_pred = y_pred_tensor.numpy()\n",
    "\n",
    "    # Calculate accuracyI have\n",
    "    accuracy = accuracy_score(y_test, y_pred)\n",
    "    print(f\"Accuracy: {accuracy:.2f}\")\n",
    "\n",
    "    print(\n",
    "        torch.max(\n",
    "            model(\n",
    "                torch.tensor(\n",
    "                    scaler.fit_transform(X[0].reshape(1, -1)), dtype=torch.float32\n",
    "                )\n",
    "            ),\n",
    "            1,\n",
    "        )\n",
    "    )\n",
    "    weights = parameters[0]"
   ]
  },
  {
   "cell_type": "code",
   "execution_count": 51,
   "metadata": {},
   "outputs": [
    {
     "data": {
      "text/plain": [
       "['pHC1',\n",
       " 'pHC2',\n",
       " 'pHC3',\n",
       " 'pHC4',\n",
       " 'pHC5',\n",
       " 'pHC6',\n",
       " 'pHC7',\n",
       " 'pHC8',\n",
       " 'pHC9',\n",
       " 'pHC10',\n",
       " 'aHC1',\n",
       " 'aHC2',\n",
       " 'aHC3',\n",
       " 'aHC4',\n",
       " 'aHC5',\n",
       " 'sMS1',\n",
       " 'sMS2',\n",
       " 'sMS4',\n",
       " 'sMS5',\n",
       " 'aMS1',\n",
       " 'aMS2',\n",
       " 'aMS3',\n",
       " 'aMS4',\n",
       " 'aMS5',\n",
       " 'aPOMS1',\n",
       " 'aPOMS2',\n",
       " 'aPOMS3',\n",
       " 'aPOMS4',\n",
       " 'aPOMS5',\n",
       " 'aPOMS6',\n",
       " 'aPOMS7',\n",
       " 'aPOMS9',\n",
       " 'sPOMS1',\n",
       " 'sPOMS2',\n",
       " 'sPOMS3',\n",
       " 'pBar2',\n",
       " 'pBar3',\n",
       " 'pBar5',\n",
       " 'pBar7',\n",
       " 'pBar8',\n",
       " 'pBar9']"
      ]
     },
     "execution_count": 51,
     "metadata": {},
     "output_type": "execute_result"
    }
   ],
   "source": [
    "list(df.columns)"
   ]
  }
 ],
 "metadata": {
  "kernelspec": {
   "display_name": "pytorch2.3.1-cuda12.1",
   "language": "python",
   "name": "python3"
  },
  "language_info": {
   "codemirror_mode": {
    "name": "ipython",
    "version": 3
   },
   "file_extension": ".py",
   "mimetype": "text/x-python",
   "name": "python",
   "nbconvert_exporter": "python",
   "pygments_lexer": "ipython3",
   "version": "3.12.3"
  }
 },
 "nbformat": 4,
 "nbformat_minor": 2
}
