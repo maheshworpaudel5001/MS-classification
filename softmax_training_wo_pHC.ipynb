{
 "cells": [
  {
   "cell_type": "code",
   "execution_count": 1,
   "metadata": {},
   "outputs": [
    {
     "name": "stdout",
     "output_type": "stream",
     "text": [
      "cuda:0\n"
     ]
    }
   ],
   "source": [
    "import pandas as pd\n",
    "import torch\n",
    "import torch.nn as nn\n",
    "import torch.optim as optim\n",
    "from sklearn.model_selection import train_test_split\n",
    "from sklearn.metrics import accuracy_score\n",
    "from sklearn.preprocessing import StandardScaler\n",
    "\n",
    "# Device\n",
    "device = torch.device(\"cuda:0\" if torch.cuda.is_available() else \"cpu\")\n",
    "print(device)"
   ]
  },
  {
   "cell_type": "code",
   "execution_count": 2,
   "metadata": {},
   "outputs": [],
   "source": [
    "# Load the data\n",
    "df1 = pd.read_excel(\n",
    "    \"/home/gddaslab/mxp140/sclerosis_project/miRNA_signal_hsa_number2.xlsx\",\n",
    "    engine=\"openpyxl\",\n",
    "    sheet_name=\"Sheet1\",\n",
    ")\n",
    "\n",
    "# Drop non-feature columns\n",
    "df = df1.drop(columns=[\"ID\", \"Transcript_ID\"])\n",
    "df = df.iloc[:, 10:]\n",
    "\n",
    "# Label the columns based on their types\n",
    "labels = {\"aHC\": 0, \"sMS\": 1, \"aMS\": 2, \"aPOMS\": 3, \"sPOMS\": 4, \"pBar\": 5}\n",
    "\n",
    "# Create target labels for each column\n",
    "y = []\n",
    "for col in df.columns:\n",
    "    for key in labels.keys():\n",
    "        if col.startswith(key):\n",
    "            y.append(labels[key])\n",
    "            break"
   ]
  },
  {
   "cell_type": "code",
   "execution_count": 3,
   "metadata": {},
   "outputs": [],
   "source": [
    "# Convert DataFrame to tensor\n",
    "X = df.T.values\n",
    "y = y\n",
    "\n",
    "# Split the data into training and testing sets\n",
    "X_train, X_test, y_train, y_test = train_test_split(\n",
    "    X, y, test_size=0.2, random_state=42\n",
    ")"
   ]
  },
  {
   "cell_type": "code",
   "execution_count": 4,
   "metadata": {},
   "outputs": [],
   "source": [
    "# Standardize features (optional but recommended)\n",
    "scaler = StandardScaler()\n",
    "X_train = scaler.fit_transform(X_train)\n",
    "X_test = scaler.transform(X_test)"
   ]
  },
  {
   "cell_type": "code",
   "execution_count": 5,
   "metadata": {},
   "outputs": [],
   "source": [
    "# Convert data to PyTorch tensors\n",
    "X_train_tensor = torch.tensor(X_train, dtype=torch.float32)\n",
    "y_train_tensor = torch.tensor(y_train, dtype=torch.long)\n",
    "X_test_tensor = torch.tensor(X_test, dtype=torch.float32)"
   ]
  },
  {
   "cell_type": "code",
   "execution_count": 6,
   "metadata": {},
   "outputs": [],
   "source": [
    "class SoftmaxRegression(nn.Module):\n",
    "    def __init__(self, input_dim, output_dim):\n",
    "        super(SoftmaxRegression, self).__init__()\n",
    "        self.linear = nn.Linear(input_dim, output_dim)\n",
    "\n",
    "    def forward(self, x):\n",
    "        # print(list(x[0]))\n",
    "        return self.linear(x)\n",
    "\n",
    "\n",
    "class ElasticNetLoss(nn.Module):\n",
    "    def __init__(self, model, alpha=1.0, l1_ratio=0.5):\n",
    "        super(ElasticNetLoss, self).__init__()\n",
    "        self.model = model\n",
    "        self.alpha = alpha\n",
    "        self.l1_ratio = l1_ratio\n",
    "        self.cross_entropy_loss = nn.CrossEntropyLoss()\n",
    "\n",
    "    def forward(self, outputs, targets):\n",
    "        ce_loss = self.cross_entropy_loss(outputs, targets)\n",
    "        l1_norm = sum(param.abs().sum() for param in self.model.parameters())\n",
    "        l2_norm = sum(param.pow(2).sum() for param in self.model.parameters())\n",
    "        elastic_net_penalty = self.alpha * (\n",
    "            self.l1_ratio * l1_norm + (1 - self.l1_ratio) * l2_norm\n",
    "        )\n",
    "        return ce_loss + elastic_net_penalty\n",
    "\n",
    "\n",
    "# Instantiate the model\n",
    "input_dim = X_train.shape[1]\n",
    "output_dim = len(torch.unique(y_train_tensor))\n",
    "model = SoftmaxRegression(input_dim, output_dim)"
   ]
  },
  {
   "cell_type": "code",
   "execution_count": 7,
   "metadata": {},
   "outputs": [
    {
     "data": {
      "text/plain": [
       "SoftmaxRegression(\n",
       "  (linear): Linear(in_features=4570, out_features=6, bias=True)\n",
       ")"
      ]
     },
     "execution_count": 7,
     "metadata": {},
     "output_type": "execute_result"
    }
   ],
   "source": [
    "model"
   ]
  },
  {
   "cell_type": "code",
   "execution_count": 8,
   "metadata": {},
   "outputs": [],
   "source": [
    "# Define loss function and optimizer\n",
    "criterion = ElasticNetLoss(model, alpha=0.01, l1_ratio=0.5)\n",
    "optimizer = optim.SGD(model.parameters(), lr=0.01)"
   ]
  },
  {
   "cell_type": "code",
   "execution_count": 9,
   "metadata": {},
   "outputs": [
    {
     "name": "stdout",
     "output_type": "stream",
     "text": [
      "Epoch [10/1000], Loss: 1.0313\n",
      "Epoch [20/1000], Loss: 0.9456\n",
      "Epoch [30/1000], Loss: 0.8783\n",
      "Epoch [40/1000], Loss: 0.8167\n",
      "Epoch [50/1000], Loss: 0.7589\n",
      "Epoch [60/1000], Loss: 0.7044\n",
      "Epoch [70/1000], Loss: 0.6531\n",
      "Epoch [80/1000], Loss: 0.6049\n",
      "Epoch [90/1000], Loss: 0.5596\n",
      "Epoch [100/1000], Loss: 0.5173\n",
      "Epoch [110/1000], Loss: 0.4782\n",
      "Epoch [120/1000], Loss: 0.4422\n",
      "Epoch [130/1000], Loss: 0.4094\n",
      "Epoch [140/1000], Loss: 0.3800\n",
      "Epoch [150/1000], Loss: 0.3538\n",
      "Epoch [160/1000], Loss: 0.3307\n",
      "Epoch [170/1000], Loss: 0.3105\n",
      "Epoch [180/1000], Loss: 0.2930\n",
      "Epoch [190/1000], Loss: 0.2780\n",
      "Epoch [200/1000], Loss: 0.2651\n",
      "Epoch [210/1000], Loss: 0.2541\n",
      "Epoch [220/1000], Loss: 0.2447\n",
      "Epoch [230/1000], Loss: 0.2366\n",
      "Epoch [240/1000], Loss: 0.2297\n",
      "Epoch [250/1000], Loss: 0.2236\n",
      "Epoch [260/1000], Loss: 0.2183\n",
      "Epoch [270/1000], Loss: 0.2136\n",
      "Epoch [280/1000], Loss: 0.2095\n",
      "Epoch [290/1000], Loss: 0.2058\n",
      "Epoch [300/1000], Loss: 0.2025\n",
      "Epoch [310/1000], Loss: 0.1995\n",
      "Epoch [320/1000], Loss: 0.1968\n",
      "Epoch [330/1000], Loss: 0.1943\n",
      "Epoch [340/1000], Loss: 0.1921\n",
      "Epoch [350/1000], Loss: 0.1900\n",
      "Epoch [360/1000], Loss: 0.1880\n",
      "Epoch [370/1000], Loss: 0.1862\n",
      "Epoch [380/1000], Loss: 0.1846\n",
      "Epoch [390/1000], Loss: 0.1831\n",
      "Epoch [400/1000], Loss: 0.1816\n",
      "Epoch [410/1000], Loss: 0.1803\n",
      "Epoch [420/1000], Loss: 0.1790\n",
      "Epoch [430/1000], Loss: 0.1778\n",
      "Epoch [440/1000], Loss: 0.1767\n",
      "Epoch [450/1000], Loss: 0.1756\n",
      "Epoch [460/1000], Loss: 0.1746\n",
      "Epoch [470/1000], Loss: 0.1736\n",
      "Epoch [480/1000], Loss: 0.1727\n",
      "Epoch [490/1000], Loss: 0.1718\n",
      "Epoch [500/1000], Loss: 0.1710\n",
      "Epoch [510/1000], Loss: 0.1702\n",
      "Epoch [520/1000], Loss: 0.1695\n",
      "Epoch [530/1000], Loss: 0.1688\n",
      "Epoch [540/1000], Loss: 0.1681\n",
      "Epoch [550/1000], Loss: 0.1675\n",
      "Epoch [560/1000], Loss: 0.1669\n",
      "Epoch [570/1000], Loss: 0.1663\n",
      "Epoch [580/1000], Loss: 0.1657\n",
      "Epoch [590/1000], Loss: 0.1652\n",
      "Epoch [600/1000], Loss: 0.1647\n",
      "Epoch [610/1000], Loss: 0.1642\n",
      "Epoch [620/1000], Loss: 0.1637\n",
      "Epoch [630/1000], Loss: 0.1632\n",
      "Epoch [640/1000], Loss: 0.1628\n",
      "Epoch [650/1000], Loss: 0.1623\n",
      "Epoch [660/1000], Loss: 0.1619\n",
      "Epoch [670/1000], Loss: 0.1615\n",
      "Epoch [680/1000], Loss: 0.1611\n",
      "Epoch [690/1000], Loss: 0.1607\n",
      "Epoch [700/1000], Loss: 0.1604\n",
      "Epoch [710/1000], Loss: 0.1600\n",
      "Epoch [720/1000], Loss: 0.1597\n",
      "Epoch [730/1000], Loss: 0.1593\n",
      "Epoch [740/1000], Loss: 0.1590\n",
      "Epoch [750/1000], Loss: 0.1587\n",
      "Epoch [760/1000], Loss: 0.1583\n",
      "Epoch [770/1000], Loss: 0.1580\n",
      "Epoch [780/1000], Loss: 0.1577\n",
      "Epoch [790/1000], Loss: 0.1574\n",
      "Epoch [800/1000], Loss: 0.1572\n",
      "Epoch [810/1000], Loss: 0.1569\n",
      "Epoch [820/1000], Loss: 0.1566\n",
      "Epoch [830/1000], Loss: 0.1563\n",
      "Epoch [840/1000], Loss: 0.1561\n",
      "Epoch [850/1000], Loss: 0.1558\n",
      "Epoch [860/1000], Loss: 0.1555\n",
      "Epoch [870/1000], Loss: 0.1553\n",
      "Epoch [880/1000], Loss: 0.1551\n",
      "Epoch [890/1000], Loss: 0.1548\n",
      "Epoch [900/1000], Loss: 0.1546\n",
      "Epoch [910/1000], Loss: 0.1544\n",
      "Epoch [920/1000], Loss: 0.1542\n",
      "Epoch [930/1000], Loss: 0.1540\n",
      "Epoch [940/1000], Loss: 0.1537\n",
      "Epoch [950/1000], Loss: 0.1536\n",
      "Epoch [960/1000], Loss: 0.1533\n",
      "Epoch [970/1000], Loss: 0.1532\n",
      "Epoch [980/1000], Loss: 0.1530\n",
      "Epoch [990/1000], Loss: 0.1528\n",
      "Epoch [1000/1000], Loss: 0.1526\n"
     ]
    }
   ],
   "source": [
    "# Training loop\n",
    "num_epochs = 1000\n",
    "for epoch in range(num_epochs):\n",
    "    model.train()  # Set the model to training mode\n",
    "\n",
    "    # Forward pass\n",
    "    outputs = model(X_train_tensor)\n",
    "    loss = criterion(outputs, y_train_tensor)\n",
    "\n",
    "    # Backward pass and optimization\n",
    "    optimizer.zero_grad()\n",
    "    loss.backward()\n",
    "    optimizer.step()\n",
    "\n",
    "    if (epoch + 1) % 10 == 0:\n",
    "        print(f\"Epoch [{epoch+1}/{num_epochs}], Loss: {loss.item():.4f}\")"
   ]
  },
  {
   "cell_type": "code",
   "execution_count": 10,
   "metadata": {},
   "outputs": [],
   "source": [
    "# Save the model\n",
    "torch.save(model.state_dict(), \"softmax_classifier_wo_pHC.pth\")"
   ]
  },
  {
   "cell_type": "code",
   "execution_count": 12,
   "metadata": {},
   "outputs": [
    {
     "name": "stdout",
     "output_type": "stream",
     "text": [
      "Accuracy: 0.57\n",
      "torch.return_types.max(\n",
      "values=tensor([5.3495e-05]),\n",
      "indices=tensor([3]))\n"
     ]
    }
   ],
   "source": [
    "# Evaluation\n",
    "with torch.no_grad():\n",
    "    model.eval()\n",
    "    test_outputs = model(X_test_tensor)\n",
    "    _, y_pred_tensor = torch.max(test_outputs, 1)\n",
    "    y_pred = y_pred_tensor.numpy()\n",
    "\n",
    "    # Calculate accuracyI have\n",
    "    accuracy = accuracy_score(y_test, y_pred)\n",
    "    print(f\"Accuracy: {accuracy:.2f}\")\n",
    "\n",
    "    print(\n",
    "        torch.max(\n",
    "            model(\n",
    "                torch.tensor(\n",
    "                    scaler.fit_transform(X[0].reshape(1, -1)), dtype=torch.float32\n",
    "                )\n",
    "            ),\n",
    "            1,\n",
    "        )\n",
    "    )"
   ]
  },
  {
   "cell_type": "code",
   "execution_count": 1,
   "metadata": {},
   "outputs": [
    {
     "name": "stdout",
     "output_type": "stream",
     "text": [
      "cuda:0\n"
     ]
    }
   ],
   "source": [
    "from sklearn.model_selection import KFold\n",
    "import numpy as np\n",
    "import pandas as pd\n",
    "import torch\n",
    "import torch.nn as nn\n",
    "import torch.optim as optim\n",
    "from sklearn.model_selection import train_test_split\n",
    "from sklearn.metrics import accuracy_score\n",
    "from sklearn.preprocessing import StandardScaler\n",
    "\n",
    "# Device\n",
    "device = torch.device(\"cuda:0\" if torch.cuda.is_available() else \"cpu\")\n",
    "print(device)"
   ]
  },
  {
   "cell_type": "code",
   "execution_count": 2,
   "metadata": {},
   "outputs": [],
   "source": [
    "class SoftmaxRegression(nn.Module):\n",
    "    def __init__(self, input_dim, output_dim):\n",
    "        super(SoftmaxRegression, self).__init__()\n",
    "        self.linear = nn.Linear(input_dim, output_dim)\n",
    "\n",
    "    def forward(self, x):\n",
    "        return self.linear(x)\n",
    "\n",
    "\n",
    "class ElasticNetLoss(nn.Module):\n",
    "    def __init__(self, model, alpha=1.0, l1_ratio=0.5):\n",
    "        super(ElasticNetLoss, self).__init__()\n",
    "        self.model = model\n",
    "        self.alpha = alpha\n",
    "        self.l1_ratio = l1_ratio\n",
    "        self.cross_entropy_loss = nn.CrossEntropyLoss()\n",
    "\n",
    "    def forward(self, outputs, targets):\n",
    "        ce_loss = self.cross_entropy_loss(outputs, targets)\n",
    "        l1_norm = sum(param.abs().sum() for param in self.model.parameters())\n",
    "        l2_norm = sum(param.pow(2).sum() for param in self.model.parameters())\n",
    "        elastic_net_penalty = self.alpha * (\n",
    "            self.l1_ratio * l1_norm + (1 - self.l1_ratio) * l2_norm\n",
    "        )\n",
    "        return ce_loss + elastic_net_penalty"
   ]
  },
  {
   "cell_type": "code",
   "execution_count": 5,
   "metadata": {},
   "outputs": [],
   "source": [
    "# Load the data\n",
    "df1 = pd.read_excel(\n",
    "    \"/home/gddaslab/mxp140/sclerosis_project/miRNA_signal_hsa_number2.xlsx\",\n",
    "    engine=\"openpyxl\",\n",
    "    sheet_name=\"Sheet1\",\n",
    ")\n",
    "\n",
    "# Drop non-feature columns\n",
    "df = df1.drop(columns=[\"ID\", \"Transcript_ID\"])\n",
    "df = df.iloc[:, 10:]\n",
    "\n",
    "# Label the columns based on their types\n",
    "labels = {\"aHC\": 0, \"sMS\": 1, \"aMS\": 2, \"aPOMS\": 3, \"sPOMS\": 4, \"pBar\": 5}\n",
    "\n",
    "# Create target labels for each column\n",
    "y = []\n",
    "for col in df.columns:\n",
    "    for key in labels.keys():\n",
    "        if col.startswith(key):\n",
    "            y.append(labels[key])\n",
    "            break"
   ]
  },
  {
   "cell_type": "code",
   "execution_count": 3,
   "metadata": {},
   "outputs": [],
   "source": [
    "# Define the number of folds for the cross-validation\n",
    "n_folds = 5\n",
    "kfold = KFold(n_splits=n_folds, shuffle=True, random_state=42)"
   ]
  },
  {
   "cell_type": "code",
   "execution_count": 4,
   "metadata": {},
   "outputs": [],
   "source": [
    "# Initialize variables to store the best model and its accuracy\n",
    "best_model = None\n",
    "best_accuracy = 0.0"
   ]
  },
  {
   "cell_type": "code",
   "execution_count": 7,
   "metadata": {},
   "outputs": [],
   "source": [
    "# Convert DataFrame to tensor\n",
    "X = df.T.values\n",
    "y = y\n",
    "\n",
    "# Convert the entire dataset to PyTorch tensors\n",
    "X_tensor = torch.tensor(X, dtype=torch.float32)\n",
    "y_tensor = torch.tensor(y, dtype=torch.long)"
   ]
  },
  {
   "cell_type": "code",
   "execution_count": null,
   "metadata": {},
   "outputs": [],
   "source": [
    "# Cross-validation loop\n",
    "for fold, (train_ids, val_ids) in enumerate(kfold.split(X_tensor)):\n",
    "    print(f\"Fold {fold+1}/{n_folds}\")\n",
    "\n",
    "    # Split the data into training and validation sets\n",
    "    X_train, X_val = X_tensor[train_ids], X_tensor[val_ids]\n",
    "    y_train, y_val = y_tensor[train_ids], y_tensor[val_ids]\n",
    "\n",
    "    # Instantiate the model\n",
    "    model = SoftmaxRegression(input_dim, output_dim)\n",
    "\n",
    "    # Define loss function and optimizer\n",
    "    criterion = ElasticNetLoss(model, alpha=0.01, l1_ratio=0.5)\n",
    "    optimizer = optim.SGD(model.parameters(), lr=0.01)\n",
    "\n",
    "    # Training loop\n",
    "    for epoch in range(num_epochs):\n",
    "        model.train()  # Set the model to training mode\n",
    "\n",
    "        # Forward pass\n",
    "        outputs = model(X_train)\n",
    "        loss = criterion(outputs, y_train)\n",
    "\n",
    "        # Backward pass and optimization\n",
    "        optimizer.zero_grad()\n",
    "        loss.backward()\n",
    "        optimizer.step()\n",
    "\n",
    "        if (epoch + 1) % 10 == 0:\n",
    "            print(f\"Epoch [{epoch+1}/{num_epochs}], Loss: {loss.item():.4f}\")\n",
    "\n",
    "    # Evaluation\n",
    "    with torch.no_grad():\n",
    "        model.eval()\n",
    "        val_outputs = model(X_val)\n",
    "        _, y_pred_tensor = torch.max(val_outputs, 1)\n",
    "        y_pred = y_pred_tensor.numpy()\n",
    "        y_true = y_val.numpy()\n",
    "\n",
    "        # Calculate accuracy\n",
    "        accuracy = accuracy_score(y_true, y_pred)\n",
    "        print(f\"Validation Accuracy: {accuracy:.2f}\")\n",
    "\n",
    "        # If this model is better than the previous best, update the best model and accuracy\n",
    "        if accuracy > best_accuracy:\n",
    "            best_accuracy = accuracy\n",
    "            best_model = model\n",
    "\n",
    "# Save the best model\n",
    "torch.save(best_model.state_dict(), \"softmax_classifier_best.pth\")\n",
    "print(f\"Best Validation Accuracy: {best_accuracy:.2f}\")"
   ]
  }
 ],
 "metadata": {
  "kernelspec": {
   "display_name": "pytorch2.3.1-cuda12.1",
   "language": "python",
   "name": "python3"
  },
  "language_info": {
   "codemirror_mode": {
    "name": "ipython",
    "version": 3
   },
   "file_extension": ".py",
   "mimetype": "text/x-python",
   "name": "python",
   "nbconvert_exporter": "python",
   "pygments_lexer": "ipython3",
   "version": "3.12.3"
  }
 },
 "nbformat": 4,
 "nbformat_minor": 2
}
