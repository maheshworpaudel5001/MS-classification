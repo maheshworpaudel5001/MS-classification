{
 "cells": [
  {
   "cell_type": "code",
   "execution_count": 18,
   "metadata": {},
   "outputs": [
    {
     "name": "stdout",
     "output_type": "stream",
     "text": [
      "cuda:0\n"
     ]
    }
   ],
   "source": [
    "import pandas as pd\n",
    "import torch\n",
    "import torch.nn as nn\n",
    "import torch.optim as optim\n",
    "from sklearn.model_selection import train_test_split\n",
    "from sklearn.metrics import accuracy_score\n",
    "from sklearn.preprocessing import StandardScaler\n",
    "\n",
    "# Device\n",
    "device = torch.device(\"cuda:0\" if torch.cuda.is_available() else \"cpu\")\n",
    "print(device)"
   ]
  },
  {
   "cell_type": "code",
   "execution_count": 19,
   "metadata": {},
   "outputs": [],
   "source": [
    "# Load the data\n",
    "df1 = pd.read_excel(\n",
    "    \"/home/gddaslab/mxp140/sclerosis_project/miRNA_signal_hsa_number2.xlsx\",\n",
    "    engine=\"openpyxl\",\n",
    "    sheet_name=\"Sheet1\",\n",
    ")\n",
    "\n",
    "# Drop non-feature columns\n",
    "df = df1.drop(columns=[\"ID\", \"Transcript_ID\"])\n",
    "df = df.iloc[:, 10:]\n",
    "\n",
    "# Label the columns based on their types\n",
    "labels = {\"aHC\": 0, \"sMS\": 1, \"aMS\": 2, \"aPOMS\": 3, \"sPOMS\": 4, \"pBar\": 5}\n",
    "\n",
    "# Create target labels for each column\n",
    "y = []\n",
    "for col in df.columns:\n",
    "    for key in labels.keys():\n",
    "        if col.startswith(key):\n",
    "            y.append(labels[key])\n",
    "            break"
   ]
  },
  {
   "cell_type": "code",
   "execution_count": 20,
   "metadata": {},
   "outputs": [],
   "source": [
    "# Convert DataFrame to tensor\n",
    "X = df.T.values\n",
    "y = y"
   ]
  },
  {
   "cell_type": "code",
   "execution_count": 21,
   "metadata": {},
   "outputs": [],
   "source": [
    "# Standardize features (optional but recommended)\n",
    "scaler = StandardScaler()"
   ]
  },
  {
   "cell_type": "code",
   "execution_count": 22,
   "metadata": {},
   "outputs": [],
   "source": [
    "class SoftmaxRegression(nn.Module):\n",
    "    def __init__(self, input_dim, output_dim):\n",
    "        super(SoftmaxRegression, self).__init__()\n",
    "        self.linear = nn.Linear(input_dim, output_dim)\n",
    "\n",
    "    def forward(self, x):\n",
    "        # print(list(x[0]))\n",
    "        return self.linear(x)\n",
    "\n",
    "\n",
    "class ElasticNetLoss(nn.Module):\n",
    "    def __init__(self, model, alpha=1.0, l1_ratio=0.5):\n",
    "        super(ElasticNetLoss, self).__init__()\n",
    "        self.model = model\n",
    "        self.alpha = alpha\n",
    "        self.l1_ratio = l1_ratio\n",
    "        self.cross_entropy_loss = nn.CrossEntropyLoss()\n",
    "\n",
    "    def forward(self, outputs, targets):\n",
    "        ce_loss = self.cross_entropy_loss(outputs, targets)\n",
    "        l1_norm = sum(param.abs().sum() for param in self.model.parameters())\n",
    "        l2_norm = sum(param.pow(2).sum() for param in self.model.parameters())\n",
    "        elastic_net_penalty = self.alpha * (\n",
    "            self.l1_ratio * l1_norm + (1 - self.l1_ratio) * l2_norm\n",
    "        )\n",
    "        return ce_loss + elastic_net_penalty"
   ]
  },
  {
   "cell_type": "code",
   "execution_count": 23,
   "metadata": {},
   "outputs": [
    {
     "data": {
      "text/plain": [
       "(31, 4570)"
      ]
     },
     "execution_count": 23,
     "metadata": {},
     "output_type": "execute_result"
    }
   ],
   "source": [
    "X.shape"
   ]
  },
  {
   "cell_type": "code",
   "execution_count": null,
   "metadata": {},
   "outputs": [],
   "source": []
  },
  {
   "cell_type": "code",
   "execution_count": 24,
   "metadata": {},
   "outputs": [
    {
     "data": {
      "text/plain": [
       "SoftmaxRegression(\n",
       "  (linear): Linear(in_features=4570, out_features=6, bias=True)\n",
       ")"
      ]
     },
     "execution_count": 24,
     "metadata": {},
     "output_type": "execute_result"
    }
   ],
   "source": [
    "# Load the model\n",
    "input_dim = X.shape[1]\n",
    "output_dim = len(torch.unique(torch.tensor(y)))\n",
    "model = SoftmaxRegression(input_dim, output_dim)\n",
    "model.load_state_dict(torch.load(\"softmax_classifier_wo_pHC.pth\"))\n",
    "model.eval()  # Set the model to evaluation mode"
   ]
  },
  {
   "cell_type": "code",
   "execution_count": 25,
   "metadata": {},
   "outputs": [
    {
     "name": "stdout",
     "output_type": "stream",
     "text": [
      "Parameter containing:\n",
      "tensor([[-4.3036e-05,  4.0040e-05, -1.3318e-05,  ..., -2.8754e-05,\n",
      "          3.7461e-05, -4.3856e-05],\n",
      "        [ 3.5014e-05, -6.9638e-05, -6.4691e-06,  ...,  5.0804e-05,\n",
      "          2.1818e-05,  3.7107e-05],\n",
      "        [ 3.8762e-05, -1.8031e-05, -5.3990e-06,  ..., -5.5664e-06,\n",
      "         -1.0579e-05, -3.0961e-05],\n",
      "        [ 1.7438e-05,  4.1048e-05,  4.3546e-05,  ...,  3.7342e-05,\n",
      "         -1.4173e-05,  2.5940e-02],\n",
      "        [-4.3082e-06,  3.1483e-05,  9.1464e-06,  ...,  2.0700e-02,\n",
      "          2.9029e-05, -1.9243e-05],\n",
      "        [-2.3558e-05,  1.8010e-05,  1.6457e-05,  ..., -2.0188e-03,\n",
      "         -4.2766e-05, -2.7076e-05]], requires_grad=True)\n",
      "torch.Size([6, 4570])\n",
      "Parameter containing:\n",
      "tensor([-1.6991e-05, -1.3707e-05, -2.3782e-05,  5.3495e-05, -6.8918e-04,\n",
      "        -5.0310e-05], requires_grad=True)\n",
      "torch.Size([6])\n"
     ]
    }
   ],
   "source": [
    "parameters = []\n",
    "for param in model.parameters():\n",
    "    print(param)\n",
    "    print(param.shape)\n",
    "    parameters.append(param)"
   ]
  },
  {
   "cell_type": "code",
   "execution_count": 26,
   "metadata": {},
   "outputs": [],
   "source": [
    "# Evaluation\n",
    "import numpy as np\n",
    "\n",
    "with torch.no_grad():\n",
    "    model.eval()\n",
    "    weights = parameters[0].detach_().numpy()\n",
    "    feature_importance = np.abs(weights)\n",
    "    aggregated_importance = np.sum(feature_importance, axis=0)\n",
    "    ranking_indices_for_miRNA = np.argsort(aggregated_importance)[::-1]\n",
    "    top_indices = ranking_indices_for_miRNA[:10]\n",
    "    top_miRNA_signals = X[:, top_indices]\n",
    "    top_miRNA_patient = df1[\"Transcript_ID\"].values[top_indices]"
   ]
  },
  {
   "cell_type": "code",
   "execution_count": 29,
   "metadata": {},
   "outputs": [
    {
     "data": {
      "text/plain": [
       "(6, 4570)"
      ]
     },
     "execution_count": 29,
     "metadata": {},
     "output_type": "execute_result"
    }
   ],
   "source": [
    "weights.shape"
   ]
  },
  {
   "cell_type": "code",
   "execution_count": null,
   "metadata": {},
   "outputs": [],
   "source": [
    "np.argsort(weights, axis=1)[:, -5:]"
   ]
  },
  {
   "cell_type": "code",
   "execution_count": 27,
   "metadata": {},
   "outputs": [
    {
     "name": "stdout",
     "output_type": "stream",
     "text": [
      "                 0\n",
      "0   hsa-miR-127-3p\n",
      "1     hsa-mir-4500\n",
      "2      hsa-miR-607\n",
      "3  hsa-miR-2276-5p\n",
      "4  hsa-miR-487a-5p\n",
      "5   hsa-miR-10b-5p\n",
      "6     hsa-mir-5003\n",
      "7     hsa-miR-4316\n",
      "8   hsa-miR-18a-3p\n",
      "9      hsa-mir-875\n"
     ]
    }
   ],
   "source": [
    "print(pd.DataFrame(top_miRNA_patient))"
   ]
  }
 ],
 "metadata": {
  "kernelspec": {
   "display_name": "pytorch2.3.1-cuda12.1",
   "language": "python",
   "name": "python3"
  },
  "language_info": {
   "codemirror_mode": {
    "name": "ipython",
    "version": 3
   },
   "file_extension": ".py",
   "mimetype": "text/x-python",
   "name": "python",
   "nbconvert_exporter": "python",
   "pygments_lexer": "ipython3",
   "version": "3.12.3"
  }
 },
 "nbformat": 4,
 "nbformat_minor": 2
}
