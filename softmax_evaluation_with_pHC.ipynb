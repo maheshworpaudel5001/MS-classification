{
 "cells": [
  {
   "cell_type": "code",
   "execution_count": 1,
   "metadata": {},
   "outputs": [
    {
     "name": "stdout",
     "output_type": "stream",
     "text": [
      "cuda:0\n"
     ]
    }
   ],
   "source": [
    "import pandas as pd\n",
    "import torch\n",
    "import torch.nn as nn\n",
    "import torch.optim as optim\n",
    "from sklearn.model_selection import train_test_split\n",
    "from sklearn.metrics import accuracy_score\n",
    "from sklearn.preprocessing import StandardScaler\n",
    "\n",
    "# Device\n",
    "device = torch.device(\"cuda:0\" if torch.cuda.is_available() else \"cpu\")\n",
    "print(device)"
   ]
  },
  {
   "cell_type": "code",
   "execution_count": 2,
   "metadata": {},
   "outputs": [],
   "source": [
    "# Load the data\n",
    "df1 = pd.read_excel(\n",
    "    \"/home/gddaslab/mxp140/sclerosis_project/miRNA_signal_hsa_number2.xlsx\",\n",
    "    engine=\"openpyxl\",\n",
    "    sheet_name=\"Sheet1\",\n",
    ")\n",
    "\n",
    "# Drop non-feature columns\n",
    "df = df1.drop(columns=[\"ID\", \"Transcript_ID\"])\n",
    "\n",
    "# Label the columns based on their types\n",
    "labels = {\"pHC\": 0, \"aHC\": 1, \"sMS\": 2, \"aMS\": 3, \"aPOMS\": 4, \"sPOMS\": 5, \"pBar\": 6}\n",
    "\n",
    "# Create target labels for each column\n",
    "y = []\n",
    "for col in df.columns:\n",
    "    for key in labels.keys():\n",
    "        if col.startswith(key):\n",
    "            y.append(labels[key])\n",
    "            break"
   ]
  },
  {
   "cell_type": "code",
   "execution_count": 3,
   "metadata": {},
   "outputs": [],
   "source": [
    "# Convert DataFrame to tensor\n",
    "X = df.T.values\n",
    "y = y"
   ]
  },
  {
   "cell_type": "code",
   "execution_count": 4,
   "metadata": {},
   "outputs": [],
   "source": [
    "# Standardize features (optional but recommended)\n",
    "scaler = StandardScaler()"
   ]
  },
  {
   "cell_type": "code",
   "execution_count": 5,
   "metadata": {},
   "outputs": [],
   "source": [
    "class SoftmaxRegression(nn.Module):\n",
    "    def __init__(self, input_dim, output_dim):\n",
    "        super(SoftmaxRegression, self).__init__()\n",
    "        self.linear = nn.Linear(input_dim, output_dim)\n",
    "\n",
    "    def forward(self, x):\n",
    "        # print(list(x[0]))\n",
    "        return self.linear(x)\n",
    "\n",
    "\n",
    "class ElasticNetLoss(nn.Module):\n",
    "    def __init__(self, model, alpha=1.0, l1_ratio=0.5):\n",
    "        super(ElasticNetLoss, self).__init__()\n",
    "        self.model = model\n",
    "        self.alpha = alpha\n",
    "        self.l1_ratio = l1_ratio\n",
    "        self.cross_entropy_loss = nn.CrossEntropyLoss()\n",
    "\n",
    "    def forward(self, outputs, targets):\n",
    "        ce_loss = self.cross_entropy_loss(outputs, targets)\n",
    "        l1_norm = sum(param.abs().sum() for param in self.model.parameters())\n",
    "        l2_norm = sum(param.pow(2).sum() for param in self.model.parameters())\n",
    "        elastic_net_penalty = self.alpha * (\n",
    "            self.l1_ratio * l1_norm + (1 - self.l1_ratio) * l2_norm\n",
    "        )\n",
    "        return ce_loss + elastic_net_penalty"
   ]
  },
  {
   "cell_type": "code",
   "execution_count": 6,
   "metadata": {},
   "outputs": [
    {
     "data": {
      "text/plain": [
       "SoftmaxRegression(\n",
       "  (linear): Linear(in_features=4570, out_features=7, bias=True)\n",
       ")"
      ]
     },
     "execution_count": 6,
     "metadata": {},
     "output_type": "execute_result"
    }
   ],
   "source": [
    "# Load the model\n",
    "input_dim = X.shape[1]\n",
    "output_dim = len(torch.unique(torch.tensor(y)))\n",
    "model = SoftmaxRegression(input_dim, output_dim)\n",
    "model.load_state_dict(torch.load(\"softmax_classifier_with_pHC.pth\"))\n",
    "model.eval()  # Set the model to evaluation mode"
   ]
  },
  {
   "cell_type": "code",
   "execution_count": 9,
   "metadata": {},
   "outputs": [
    {
     "name": "stdout",
     "output_type": "stream",
     "text": [
      "Parameter containing:\n",
      "tensor([[ 4.3902e-05, -1.1309e-05,  3.0655e-06,  ..., -1.1059e-05,\n",
      "         -5.5029e-05,  3.1992e-05],\n",
      "        [ 3.8382e-05, -3.1577e-05, -2.9805e-05,  ..., -3.3302e-05,\n",
      "          5.2395e-06, -1.0548e-05],\n",
      "        [ 3.6301e-05, -8.6224e-06, -2.9602e-05,  ...,  3.3170e-05,\n",
      "          6.7094e-06,  1.2435e-06],\n",
      "        ...,\n",
      "        [-6.1704e-05,  3.3200e-04,  4.7289e-05,  ...,  2.8878e-05,\n",
      "         -2.1543e-05,  1.1240e-02],\n",
      "        [ 3.1717e-05,  1.7200e-03,  2.6634e-06,  ...,  1.7624e-02,\n",
      "         -1.3855e-05,  2.5219e-05],\n",
      "        [ 4.8298e-05, -3.9957e-06,  1.3569e-05,  ..., -5.9655e-05,\n",
      "         -5.5986e-05,  2.5388e-05]], requires_grad=True)\n",
      "torch.Size([7, 4570])\n",
      "Parameter containing:\n",
      "tensor([-2.5547e-05,  1.5846e-05,  2.9928e-05, -3.0617e-05, -1.4975e-06,\n",
      "         2.2246e-05,  1.2235e-05], requires_grad=True)\n",
      "torch.Size([7])\n"
     ]
    }
   ],
   "source": [
    "parameters = []\n",
    "for param in model.parameters():\n",
    "    print(param)\n",
    "    print(param.shape)\n",
    "    parameters.append(param)"
   ]
  },
  {
   "cell_type": "code",
   "execution_count": 10,
   "metadata": {},
   "outputs": [],
   "source": [
    "# Evaluation\n",
    "import numpy as np\n",
    "\n",
    "with torch.no_grad():\n",
    "    model.eval()\n",
    "    weights = parameters[0].detach_().numpy()\n",
    "\n",
    "    ######## top features overall ##########\n",
    "    feature_importance = np.abs(weights)\n",
    "    aggregated_importance = np.sum(feature_importance, axis=0)\n",
    "    ranking_indices_for_miRNA = np.argsort(aggregated_importance)[::-1]\n",
    "    top_indices = ranking_indices_for_miRNA[:10]\n",
    "    top_miRNA_signals = X[:, top_indices]\n",
    "    top_miRNA_patient = df1[\"Transcript_ID\"].values[top_indices]\n",
    "\n",
    "    ########### top features class wise ##########\n",
    "    top_indices_per_class = np.argsort(weights, axis=1)[:, -5:]\n",
    "    top_rnas_per_class = {}\n",
    "    for nth_row in range(top_indices_per_class.shape[0]):\n",
    "        top_rnas_per_class[list(labels.keys())[nth_row]] = list(\n",
    "            df1[\"Transcript_ID\"].values[list(top_indices_per_class[nth_row, :])]\n",
    "        )"
   ]
  },
  {
   "cell_type": "code",
   "execution_count": 13,
   "metadata": {},
   "outputs": [],
   "source": [
    "pd.DataFrame(top_miRNA_patient).to_csv(\"top10_rnas_with_pHC.csv\", sep=\",\", index=True)"
   ]
  }
 ],
 "metadata": {
  "kernelspec": {
   "display_name": "pytorch2.3.1-cuda12.1",
   "language": "python",
   "name": "python3"
  },
  "language_info": {
   "codemirror_mode": {
    "name": "ipython",
    "version": 3
   },
   "file_extension": ".py",
   "mimetype": "text/x-python",
   "name": "python",
   "nbconvert_exporter": "python",
   "pygments_lexer": "ipython3",
   "version": "3.12.3"
  }
 },
 "nbformat": 4,
 "nbformat_minor": 2
}
