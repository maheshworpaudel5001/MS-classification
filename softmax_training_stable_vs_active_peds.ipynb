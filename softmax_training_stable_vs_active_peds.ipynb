{
 "cells": [
  {
   "cell_type": "code",
   "execution_count": 1,
   "metadata": {},
   "outputs": [
    {
     "name": "stdout",
     "output_type": "stream",
     "text": [
      "cpu\n"
     ]
    }
   ],
   "source": [
    "import pandas as pd\n",
    "import numpy as np\n",
    "import torch\n",
    "import torch.nn as nn\n",
    "import torch.optim as optim\n",
    "from sklearn.model_selection import train_test_split\n",
    "from sklearn.metrics import accuracy_score\n",
    "from sklearn.preprocessing import StandardScaler\n",
    "from sklearn.model_selection import KFold\n",
    "\n",
    "# Device\n",
    "device = torch.device(\"cuda:0\" if torch.cuda.is_available() else \"cpu\")\n",
    "print(device)"
   ]
  },
  {
   "cell_type": "code",
   "execution_count": 6,
   "metadata": {},
   "outputs": [
    {
     "data": {
      "text/html": [
       "<div>\n",
       "<style scoped>\n",
       "    .dataframe tbody tr th:only-of-type {\n",
       "        vertical-align: middle;\n",
       "    }\n",
       "\n",
       "    .dataframe tbody tr th {\n",
       "        vertical-align: top;\n",
       "    }\n",
       "\n",
       "    .dataframe thead th {\n",
       "        text-align: right;\n",
       "    }\n",
       "</style>\n",
       "<table border=\"1\" class=\"dataframe\">\n",
       "  <thead>\n",
       "    <tr style=\"text-align: right;\">\n",
       "      <th></th>\n",
       "      <th>aPOMS1</th>\n",
       "      <th>aPOMS2</th>\n",
       "      <th>aPOMS3</th>\n",
       "      <th>aPOMS4</th>\n",
       "      <th>aPOMS5</th>\n",
       "      <th>aPOMS6</th>\n",
       "      <th>aPOMS7</th>\n",
       "      <th>aPOMS9</th>\n",
       "      <th>sPOMS1</th>\n",
       "      <th>sPOMS2</th>\n",
       "      <th>sPOMS3</th>\n",
       "    </tr>\n",
       "  </thead>\n",
       "  <tbody>\n",
       "    <tr>\n",
       "      <th>0</th>\n",
       "      <td>1.96</td>\n",
       "      <td>1.85</td>\n",
       "      <td>1.92</td>\n",
       "      <td>1.87</td>\n",
       "      <td>1.85</td>\n",
       "      <td>1.95</td>\n",
       "      <td>1.82</td>\n",
       "      <td>1.51</td>\n",
       "      <td>1.87</td>\n",
       "      <td>1.55</td>\n",
       "      <td>1.89</td>\n",
       "    </tr>\n",
       "    <tr>\n",
       "      <th>1</th>\n",
       "      <td>1.79</td>\n",
       "      <td>1.81</td>\n",
       "      <td>1.92</td>\n",
       "      <td>2.20</td>\n",
       "      <td>2.29</td>\n",
       "      <td>2.24</td>\n",
       "      <td>1.97</td>\n",
       "      <td>2.06</td>\n",
       "      <td>2.20</td>\n",
       "      <td>2.36</td>\n",
       "      <td>1.91</td>\n",
       "    </tr>\n",
       "    <tr>\n",
       "      <th>2</th>\n",
       "      <td>1.65</td>\n",
       "      <td>2.04</td>\n",
       "      <td>2.03</td>\n",
       "      <td>1.65</td>\n",
       "      <td>2.18</td>\n",
       "      <td>2.13</td>\n",
       "      <td>1.81</td>\n",
       "      <td>1.83</td>\n",
       "      <td>2.04</td>\n",
       "      <td>1.94</td>\n",
       "      <td>1.94</td>\n",
       "    </tr>\n",
       "    <tr>\n",
       "      <th>3</th>\n",
       "      <td>2.08</td>\n",
       "      <td>2.16</td>\n",
       "      <td>1.76</td>\n",
       "      <td>1.98</td>\n",
       "      <td>2.10</td>\n",
       "      <td>1.68</td>\n",
       "      <td>1.94</td>\n",
       "      <td>1.86</td>\n",
       "      <td>1.67</td>\n",
       "      <td>1.93</td>\n",
       "      <td>2.03</td>\n",
       "    </tr>\n",
       "    <tr>\n",
       "      <th>4</th>\n",
       "      <td>2.16</td>\n",
       "      <td>2.12</td>\n",
       "      <td>1.76</td>\n",
       "      <td>1.98</td>\n",
       "      <td>2.03</td>\n",
       "      <td>1.74</td>\n",
       "      <td>1.94</td>\n",
       "      <td>1.85</td>\n",
       "      <td>1.67</td>\n",
       "      <td>2.01</td>\n",
       "      <td>2.03</td>\n",
       "    </tr>\n",
       "  </tbody>\n",
       "</table>\n",
       "</div>"
      ],
      "text/plain": [
       "   aPOMS1  aPOMS2  aPOMS3  aPOMS4  aPOMS5  aPOMS6  aPOMS7  aPOMS9  sPOMS1  \\\n",
       "0    1.96    1.85    1.92    1.87    1.85    1.95    1.82    1.51    1.87   \n",
       "1    1.79    1.81    1.92    2.20    2.29    2.24    1.97    2.06    2.20   \n",
       "2    1.65    2.04    2.03    1.65    2.18    2.13    1.81    1.83    2.04   \n",
       "3    2.08    2.16    1.76    1.98    2.10    1.68    1.94    1.86    1.67   \n",
       "4    2.16    2.12    1.76    1.98    2.03    1.74    1.94    1.85    1.67   \n",
       "\n",
       "   sPOMS2  sPOMS3  \n",
       "0    1.55    1.89  \n",
       "1    2.36    1.91  \n",
       "2    1.94    1.94  \n",
       "3    1.93    2.03  \n",
       "4    2.01    2.03  "
      ]
     },
     "metadata": {},
     "output_type": "display_data"
    }
   ],
   "source": [
    "# Load the data\n",
    "df1 = pd.read_excel(\n",
    "    \"/home/gddaslab/mxp140/sclerosis_project/miRNA_signal_hsa_number2.xlsx\",\n",
    "    engine=\"openpyxl\",\n",
    "    sheet_name=\"Sheet1\",\n",
    ")\n",
    "\n",
    "# Drop non-feature columns\n",
    "apoms_cols= np.array(list(df1.columns), dtype=object)[['aPOMS' in elem for elem in list(df1.columns)]]\n",
    "spoms_cols = np.array(list(df1.columns), dtype=object)[['sPOMS' in elem for elem in list(df1.columns)]]\n",
    "df = df1[list(apoms_cols) + list(spoms_cols)]\n",
    "display(df.head(5))\n",
    "\n",
    "# Label the columns based on their types\n",
    "labels = {\"aPOMS\": 0, \"sPOMS\": 1}\n",
    "\n",
    "# Create target labels for each column\n",
    "y = []\n",
    "for col in df.columns:\n",
    "    for key in labels.keys():\n",
    "        if col.startswith(key):\n",
    "            y.append(labels[key])\n",
    "            break"
   ]
  },
  {
   "cell_type": "code",
   "execution_count": 8,
   "metadata": {},
   "outputs": [],
   "source": [
    "# Convert DataFrame to tensor\n",
    "X = df.T.values\n",
    "y = y\n",
    "\n",
    "# Split the data into training and testing sets\n",
    "X_train, X_test, y_train, y_test = train_test_split(\n",
    "    X, y, test_size=0.2, random_state=42\n",
    ")"
   ]
  },
  {
   "cell_type": "code",
   "execution_count": 9,
   "metadata": {},
   "outputs": [],
   "source": [
    "# Standardize features (optional but recommended)\n",
    "scaler = StandardScaler()\n",
    "X_train = scaler.fit_transform(X_train)\n",
    "X_test = scaler.transform(X_test)"
   ]
  },
  {
   "cell_type": "code",
   "execution_count": 10,
   "metadata": {},
   "outputs": [],
   "source": [
    "# Convert data to PyTorch tensors\n",
    "X_train_tensor = torch.tensor(X_train, dtype=torch.float32)\n",
    "y_train_tensor = torch.tensor(y_train, dtype=torch.long)\n",
    "X_test_tensor = torch.tensor(X_test, dtype=torch.float32)"
   ]
  },
  {
   "cell_type": "code",
   "execution_count": 11,
   "metadata": {},
   "outputs": [
    {
     "data": {
      "text/plain": [
       "tensor([1, 0, 0, 1, 0, 0, 0, 0])"
      ]
     },
     "execution_count": 11,
     "metadata": {},
     "output_type": "execute_result"
    }
   ],
   "source": [
    "y_train_tensor"
   ]
  },
  {
   "cell_type": "code",
   "execution_count": 12,
   "metadata": {},
   "outputs": [],
   "source": [
    "class SoftmaxRegression(nn.Module):\n",
    "    def __init__(self, input_dim, output_dim):\n",
    "        super(SoftmaxRegression, self).__init__()\n",
    "        self.linear = nn.Linear(input_dim, output_dim)\n",
    "\n",
    "    def forward(self, x):\n",
    "        return self.linear(x)\n",
    "\n",
    "\n",
    "class ElasticNetLoss(nn.Module):\n",
    "    def __init__(self, model, alpha=1.0, l1_ratio=0.5):\n",
    "        super(ElasticNetLoss, self).__init__()\n",
    "        self.model = model\n",
    "        self.alpha = alpha\n",
    "        self.l1_ratio = l1_ratio\n",
    "        self.cross_entropy_loss = nn.CrossEntropyLoss()\n",
    "\n",
    "    def forward(self, outputs, targets):\n",
    "        ce_loss = self.cross_entropy_loss(outputs, targets)\n",
    "        l1_norm = sum(param.abs().sum() for param in self.model.parameters())\n",
    "        l2_norm = sum(param.pow(2).sum() for param in self.model.parameters())\n",
    "        elastic_net_penalty = self.alpha * (\n",
    "            self.l1_ratio * l1_norm + (1 - self.l1_ratio) * l2_norm\n",
    "        )\n",
    "        return ce_loss + elastic_net_penalty\n",
    "\n",
    "\n",
    "# Instantiate the model\n",
    "input_dim = X_train.shape[1]\n",
    "output_dim = len(torch.unique(y_train_tensor))\n",
    "model = SoftmaxRegression(input_dim, output_dim)"
   ]
  },
  {
   "cell_type": "code",
   "execution_count": 13,
   "metadata": {},
   "outputs": [
    {
     "data": {
      "text/plain": [
       "SoftmaxRegression(\n",
       "  (linear): Linear(in_features=4570, out_features=2, bias=True)\n",
       ")"
      ]
     },
     "execution_count": 13,
     "metadata": {},
     "output_type": "execute_result"
    }
   ],
   "source": [
    "model"
   ]
  },
  {
   "cell_type": "code",
   "execution_count": 14,
   "metadata": {},
   "outputs": [],
   "source": [
    "# Define loss function and optimizer\n",
    "criterion = ElasticNetLoss(model, alpha=0.01, l1_ratio=0.5)\n",
    "optimizer = optim.SGD(model.parameters(), lr=0.01)"
   ]
  },
  {
   "cell_type": "code",
   "execution_count": 15,
   "metadata": {},
   "outputs": [
    {
     "name": "stdout",
     "output_type": "stream",
     "text": [
      "Epoch [10/1000], Loss: 0.3393\n",
      "Epoch [20/1000], Loss: 0.3150\n",
      "Epoch [30/1000], Loss: 0.2932\n",
      "Epoch [40/1000], Loss: 0.2729\n",
      "Epoch [50/1000], Loss: 0.2538\n",
      "Epoch [60/1000], Loss: 0.2358\n",
      "Epoch [70/1000], Loss: 0.2189\n",
      "Epoch [80/1000], Loss: 0.2030\n",
      "Epoch [90/1000], Loss: 0.1880\n",
      "Epoch [100/1000], Loss: 0.1740\n",
      "Epoch [110/1000], Loss: 0.1611\n",
      "Epoch [120/1000], Loss: 0.1493\n",
      "Epoch [130/1000], Loss: 0.1387\n",
      "Epoch [140/1000], Loss: 0.1293\n",
      "Epoch [150/1000], Loss: 0.1210\n",
      "Epoch [160/1000], Loss: 0.1137\n",
      "Epoch [170/1000], Loss: 0.1075\n",
      "Epoch [180/1000], Loss: 0.1022\n",
      "Epoch [190/1000], Loss: 0.0977\n",
      "Epoch [200/1000], Loss: 0.0939\n",
      "Epoch [210/1000], Loss: 0.0907\n",
      "Epoch [220/1000], Loss: 0.0879\n",
      "Epoch [230/1000], Loss: 0.0856\n",
      "Epoch [240/1000], Loss: 0.0835\n",
      "Epoch [250/1000], Loss: 0.0818\n",
      "Epoch [260/1000], Loss: 0.0802\n",
      "Epoch [270/1000], Loss: 0.0787\n",
      "Epoch [280/1000], Loss: 0.0775\n",
      "Epoch [290/1000], Loss: 0.0764\n",
      "Epoch [300/1000], Loss: 0.0754\n",
      "Epoch [310/1000], Loss: 0.0745\n",
      "Epoch [320/1000], Loss: 0.0737\n",
      "Epoch [330/1000], Loss: 0.0729\n",
      "Epoch [340/1000], Loss: 0.0722\n",
      "Epoch [350/1000], Loss: 0.0716\n",
      "Epoch [360/1000], Loss: 0.0710\n",
      "Epoch [370/1000], Loss: 0.0704\n",
      "Epoch [380/1000], Loss: 0.0699\n",
      "Epoch [390/1000], Loss: 0.0694\n",
      "Epoch [400/1000], Loss: 0.0690\n",
      "Epoch [410/1000], Loss: 0.0686\n",
      "Epoch [420/1000], Loss: 0.0682\n",
      "Epoch [430/1000], Loss: 0.0678\n",
      "Epoch [440/1000], Loss: 0.0674\n",
      "Epoch [450/1000], Loss: 0.0671\n",
      "Epoch [460/1000], Loss: 0.0668\n",
      "Epoch [470/1000], Loss: 0.0665\n",
      "Epoch [480/1000], Loss: 0.0662\n",
      "Epoch [490/1000], Loss: 0.0660\n",
      "Epoch [500/1000], Loss: 0.0657\n",
      "Epoch [510/1000], Loss: 0.0655\n",
      "Epoch [520/1000], Loss: 0.0653\n",
      "Epoch [530/1000], Loss: 0.0650\n",
      "Epoch [540/1000], Loss: 0.0648\n",
      "Epoch [550/1000], Loss: 0.0646\n",
      "Epoch [560/1000], Loss: 0.0644\n",
      "Epoch [570/1000], Loss: 0.0642\n",
      "Epoch [580/1000], Loss: 0.0640\n",
      "Epoch [590/1000], Loss: 0.0639\n",
      "Epoch [600/1000], Loss: 0.0637\n",
      "Epoch [610/1000], Loss: 0.0635\n",
      "Epoch [620/1000], Loss: 0.0634\n",
      "Epoch [630/1000], Loss: 0.0632\n",
      "Epoch [640/1000], Loss: 0.0631\n",
      "Epoch [650/1000], Loss: 0.0629\n",
      "Epoch [660/1000], Loss: 0.0628\n",
      "Epoch [670/1000], Loss: 0.0627\n",
      "Epoch [680/1000], Loss: 0.0626\n",
      "Epoch [690/1000], Loss: 0.0624\n",
      "Epoch [700/1000], Loss: 0.0623\n",
      "Epoch [710/1000], Loss: 0.0622\n",
      "Epoch [720/1000], Loss: 0.0621\n",
      "Epoch [730/1000], Loss: 0.0620\n",
      "Epoch [740/1000], Loss: 0.0619\n",
      "Epoch [750/1000], Loss: 0.0618\n",
      "Epoch [760/1000], Loss: 0.0617\n",
      "Epoch [770/1000], Loss: 0.0616\n",
      "Epoch [780/1000], Loss: 0.0615\n",
      "Epoch [790/1000], Loss: 0.0614\n",
      "Epoch [800/1000], Loss: 0.0613\n",
      "Epoch [810/1000], Loss: 0.0613\n",
      "Epoch [820/1000], Loss: 0.0612\n",
      "Epoch [830/1000], Loss: 0.0611\n",
      "Epoch [840/1000], Loss: 0.0610\n",
      "Epoch [850/1000], Loss: 0.0609\n",
      "Epoch [860/1000], Loss: 0.0609\n",
      "Epoch [870/1000], Loss: 0.0608\n",
      "Epoch [880/1000], Loss: 0.0607\n",
      "Epoch [890/1000], Loss: 0.0606\n",
      "Epoch [900/1000], Loss: 0.0606\n",
      "Epoch [910/1000], Loss: 0.0605\n",
      "Epoch [920/1000], Loss: 0.0604\n",
      "Epoch [930/1000], Loss: 0.0604\n",
      "Epoch [940/1000], Loss: 0.0603\n",
      "Epoch [950/1000], Loss: 0.0602\n",
      "Epoch [960/1000], Loss: 0.0602\n",
      "Epoch [970/1000], Loss: 0.0601\n",
      "Epoch [980/1000], Loss: 0.0601\n",
      "Epoch [990/1000], Loss: 0.0600\n",
      "Epoch [1000/1000], Loss: 0.0599\n"
     ]
    }
   ],
   "source": [
    "# Training loop\n",
    "num_epochs = 1000\n",
    "for epoch in range(num_epochs):\n",
    "    model.train()  # Set the model to training mode\n",
    "\n",
    "    # Forward pass\n",
    "    outputs = model(X_train_tensor)\n",
    "    loss = criterion(outputs, y_train_tensor)\n",
    "\n",
    "    # Backward pass and optimization\n",
    "    optimizer.zero_grad()\n",
    "    loss.backward()\n",
    "    optimizer.step()\n",
    "\n",
    "    if (epoch + 1) % 10 == 0:\n",
    "        print(f\"Epoch [{epoch+1}/{num_epochs}], Loss: {loss.item():.4f}\")"
   ]
  },
  {
   "cell_type": "code",
   "execution_count": 16,
   "metadata": {},
   "outputs": [],
   "source": [
    "# Save the model\n",
    "torch.save(model.state_dict(), \"softmax_classifier_stable_vs_active_peds.pth\")"
   ]
  },
  {
   "cell_type": "code",
   "execution_count": 17,
   "metadata": {},
   "outputs": [
    {
     "name": "stdout",
     "output_type": "stream",
     "text": [
      "Accuracy: 1.00\n",
      "torch.return_types.max(\n",
      "values=tensor([0.0852]),\n",
      "indices=tensor([0]))\n"
     ]
    }
   ],
   "source": [
    "# Evaluation\n",
    "with torch.no_grad():\n",
    "    model.eval()\n",
    "    test_outputs = model(X_test_tensor)\n",
    "    _, y_pred_tensor = torch.max(test_outputs, 1)\n",
    "    y_pred = y_pred_tensor.numpy()\n",
    "\n",
    "    # Calculate accuracyI have\n",
    "    accuracy = accuracy_score(y_test, y_pred)\n",
    "    print(f\"Accuracy: {accuracy:.2f}\")\n",
    "\n",
    "    print(\n",
    "        torch.max(\n",
    "            model(\n",
    "                torch.tensor(\n",
    "                    scaler.fit_transform(X[0].reshape(1, -1)), dtype=torch.float32\n",
    "                )\n",
    "            ),\n",
    "            1,\n",
    "        )\n",
    "    )"
   ]
  }
 ],
 "metadata": {
  "kernelspec": {
   "display_name": "pytorch2.3.1-cuda12.1",
   "language": "python",
   "name": "python3"
  },
  "language_info": {
   "codemirror_mode": {
    "name": "ipython",
    "version": 3
   },
   "file_extension": ".py",
   "mimetype": "text/x-python",
   "name": "python",
   "nbconvert_exporter": "python",
   "pygments_lexer": "ipython3",
   "version": "3.12.3"
  }
 },
 "nbformat": 4,
 "nbformat_minor": 2
}
